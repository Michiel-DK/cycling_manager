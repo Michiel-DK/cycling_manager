{
 "cells": [
  {
   "cell_type": "code",
   "execution_count": 42,
   "metadata": {},
   "outputs": [],
   "source": [
    "from minio import Minio"
   ]
  },
  {
   "cell_type": "code",
   "execution_count": 43,
   "metadata": {},
   "outputs": [],
   "source": [
    "client = Minio('localhost:9000', access_key='', secret_key='', secure=False)"
   ]
  },
  {
   "cell_type": "code",
   "execution_count": 45,
   "metadata": {},
   "outputs": [],
   "source": [
    "client.make_bucket(\"boonen\", \"us-west-1\")"
   ]
  },
  {
   "cell_type": "code",
   "execution_count": 51,
   "metadata": {},
   "outputs": [
    {
     "name": "stdout",
     "output_type": "stream",
     "text": [
      "<bound method Object.fromxml of <class 'minio.datatypes.Object'>>\n",
      "<bound method Object.fromxml of <class 'minio.datatypes.Object'>>\n",
      "<bound method Object.fromxml of <class 'minio.datatypes.Object'>>\n",
      "<bound method Object.fromxml of <class 'minio.datatypes.Object'>>\n",
      "<bound method Object.fromxml of <class 'minio.datatypes.Object'>>\n",
      "<bound method Object.fromxml of <class 'minio.datatypes.Object'>>\n",
      "<bound method Object.fromxml of <class 'minio.datatypes.Object'>>\n",
      "<bound method Object.fromxml of <class 'minio.datatypes.Object'>>\n",
      "<bound method Object.fromxml of <class 'minio.datatypes.Object'>>\n",
      "<bound method Object.fromxml of <class 'minio.datatypes.Object'>>\n",
      "<bound method Object.fromxml of <class 'minio.datatypes.Object'>>\n",
      "<bound method Object.fromxml of <class 'minio.datatypes.Object'>>\n",
      "<bound method Object.fromxml of <class 'minio.datatypes.Object'>>\n",
      "<bound method Object.fromxml of <class 'minio.datatypes.Object'>>\n",
      "<bound method Object.fromxml of <class 'minio.datatypes.Object'>>\n",
      "<bound method Object.fromxml of <class 'minio.datatypes.Object'>>\n",
      "<bound method Object.fromxml of <class 'minio.datatypes.Object'>>\n",
      "<bound method Object.fromxml of <class 'minio.datatypes.Object'>>\n",
      "<bound method Object.fromxml of <class 'minio.datatypes.Object'>>\n",
      "<bound method Object.fromxml of <class 'minio.datatypes.Object'>>\n",
      "<bound method Object.fromxml of <class 'minio.datatypes.Object'>>\n",
      "<bound method Object.fromxml of <class 'minio.datatypes.Object'>>\n",
      "<bound method Object.fromxml of <class 'minio.datatypes.Object'>>\n",
      "<bound method Object.fromxml of <class 'minio.datatypes.Object'>>\n",
      "<bound method Object.fromxml of <class 'minio.datatypes.Object'>>\n",
      "<bound method Object.fromxml of <class 'minio.datatypes.Object'>>\n",
      "<bound method Object.fromxml of <class 'minio.datatypes.Object'>>\n",
      "<bound method Object.fromxml of <class 'minio.datatypes.Object'>>\n",
      "<bound method Object.fromxml of <class 'minio.datatypes.Object'>>\n",
      "<bound method Object.fromxml of <class 'minio.datatypes.Object'>>\n",
      "<bound method Object.fromxml of <class 'minio.datatypes.Object'>>\n",
      "<bound method Object.fromxml of <class 'minio.datatypes.Object'>>\n",
      "<bound method Object.fromxml of <class 'minio.datatypes.Object'>>\n",
      "<bound method Object.fromxml of <class 'minio.datatypes.Object'>>\n",
      "<bound method Object.fromxml of <class 'minio.datatypes.Object'>>\n",
      "<bound method Object.fromxml of <class 'minio.datatypes.Object'>>\n",
      "<bound method Object.fromxml of <class 'minio.datatypes.Object'>>\n",
      "<bound method Object.fromxml of <class 'minio.datatypes.Object'>>\n",
      "<bound method Object.fromxml of <class 'minio.datatypes.Object'>>\n",
      "<bound method Object.fromxml of <class 'minio.datatypes.Object'>>\n",
      "<bound method Object.fromxml of <class 'minio.datatypes.Object'>>\n",
      "<bound method Object.fromxml of <class 'minio.datatypes.Object'>>\n",
      "<bound method Object.fromxml of <class 'minio.datatypes.Object'>>\n",
      "<bound method Object.fromxml of <class 'minio.datatypes.Object'>>\n",
      "<bound method Object.fromxml of <class 'minio.datatypes.Object'>>\n"
     ]
    }
   ],
   "source": [
    "for object in client._list_objects('cycling'):\n",
    "    print(object.)"
   ]
  },
  {
   "cell_type": "code",
   "execution_count": null,
   "metadata": {},
   "outputs": [],
   "source": []
  },
  {
   "cell_type": "code",
   "execution_count": 18,
   "metadata": {},
   "outputs": [
    {
     "ename": "AttributeError",
     "evalue": "'Bucket' object has no attribute 'endpoint'",
     "output_type": "error",
     "traceback": [
      "\u001b[0;31m---------------------------------------------------------------------------\u001b[0m",
      "\u001b[0;31mAttributeError\u001b[0m                            Traceback (most recent call last)",
      "Cell \u001b[0;32mIn[18], line 3\u001b[0m\n\u001b[1;32m      1\u001b[0m buckets \u001b[39m=\u001b[39m client\u001b[39m.\u001b[39mlist_buckets()\n\u001b[1;32m      2\u001b[0m \u001b[39mfor\u001b[39;00m bucket \u001b[39min\u001b[39;00m buckets:\n\u001b[0;32m----> 3\u001b[0m     \u001b[39mprint\u001b[39m(bucket\u001b[39m.\u001b[39mname, bucket\u001b[39m.\u001b[39mcreation_date, bucket\u001b[39m.\u001b[39;49mendpoint)\n",
      "\u001b[0;31mAttributeError\u001b[0m: 'Bucket' object has no attribute 'endpoint'"
     ]
    }
   ],
   "source": [
    "buckets = client.list_buckets()\n",
    "for bucket in buckets:\n",
    "    print(bucket.name, bucket.creation_date, bucket.)"
   ]
  },
  {
   "cell_type": "code",
   "execution_count": 6,
   "metadata": {},
   "outputs": [],
   "source": [
    "import mlflow"
   ]
  },
  {
   "cell_type": "code",
   "execution_count": 8,
   "metadata": {},
   "outputs": [],
   "source": [
    "mlflow.set_tracking_uri('http://localhost:5001/')"
   ]
  },
  {
   "cell_type": "code",
   "execution_count": 9,
   "metadata": {},
   "outputs": [
    {
     "name": "stderr",
     "output_type": "stream",
     "text": [
      "2022/12/19 18:55:32 INFO mlflow.tracking.fluent: Experiment with name 'test' does not exist. Creating a new experiment.\n"
     ]
    },
    {
     "data": {
      "text/plain": [
       "<Experiment: artifact_location='s3://mlflow/1', experiment_id='1', lifecycle_stage='active', name='test', tags={}>"
      ]
     },
     "execution_count": 9,
     "metadata": {},
     "output_type": "execute_result"
    }
   ],
   "source": [
    "mlflow.set_experiment('test')"
   ]
  },
  {
   "cell_type": "code",
   "execution_count": 37,
   "metadata": {},
   "outputs": [
    {
     "name": "stdout",
     "output_type": "stream",
     "text": [
      "Collecting openpyxl\n",
      "  Using cached openpyxl-3.0.10-py2.py3-none-any.whl (242 kB)\n",
      "Requirement already satisfied: et-xmlfile in /Users/michieldekoninck/.pyenv/versions/3.10.6/envs/cycling/lib/python3.10/site-packages (from openpyxl) (1.1.0)\n",
      "Installing collected packages: openpyxl\n",
      "Successfully installed openpyxl-3.0.10\n",
      "\n",
      "\u001b[1m[\u001b[0m\u001b[34;49mnotice\u001b[0m\u001b[1;39;49m]\u001b[0m\u001b[39;49m A new release of pip available: \u001b[0m\u001b[31;49m22.2.1\u001b[0m\u001b[39;49m -> \u001b[0m\u001b[32;49m22.3.1\u001b[0m\n",
      "\u001b[1m[\u001b[0m\u001b[34;49mnotice\u001b[0m\u001b[1;39;49m]\u001b[0m\u001b[39;49m To update, run: \u001b[0m\u001b[32;49mpip install --upgrade pip\u001b[0m\n",
      "Found existing installation: openpyxl 3.0.10\n",
      "Uninstalling openpyxl-3.0.10:\n",
      "  Successfully uninstalled openpyxl-3.0.10\n"
     ]
    }
   ],
   "source": [
    "import pandas as pd\n",
    "\n",
    "!pip install openpyxl\n",
    "df = pd.read_excel('div.xlsx')\n",
    "!pip uninstall -y openpyxl"
   ]
  },
  {
   "cell_type": "code",
   "execution_count": 40,
   "metadata": {},
   "outputs": [
    {
     "data": {
      "text/html": [
       "<div>\n",
       "<style scoped>\n",
       "    .dataframe tbody tr th:only-of-type {\n",
       "        vertical-align: middle;\n",
       "    }\n",
       "\n",
       "    .dataframe tbody tr th {\n",
       "        vertical-align: top;\n",
       "    }\n",
       "\n",
       "    .dataframe thead th {\n",
       "        text-align: right;\n",
       "    }\n",
       "</style>\n",
       "<table border=\"1\" class=\"dataframe\">\n",
       "  <thead>\n",
       "    <tr style=\"text-align: right;\">\n",
       "      <th></th>\n",
       "      <th>Boekingsbedrag (EUR)</th>\n",
       "    </tr>\n",
       "    <tr>\n",
       "      <th>Instrument</th>\n",
       "      <th></th>\n",
       "    </tr>\n",
       "  </thead>\n",
       "  <tbody>\n",
       "    <tr>\n",
       "      <th>ASML Holding NV</th>\n",
       "      <td>27.19</td>\n",
       "    </tr>\n",
       "    <tr>\n",
       "      <th>AbbVie Inc.</th>\n",
       "      <td>27.31</td>\n",
       "    </tr>\n",
       "    <tr>\n",
       "      <th>Adidas</th>\n",
       "      <td>17.01</td>\n",
       "    </tr>\n",
       "    <tr>\n",
       "      <th>Altria Group, Inc.</th>\n",
       "      <td>15.59</td>\n",
       "    </tr>\n",
       "    <tr>\n",
       "      <th>Amgen Inc.</th>\n",
       "      <td>8.76</td>\n",
       "    </tr>\n",
       "    <tr>\n",
       "      <th>Atlantica Sustainable Infrastructure</th>\n",
       "      <td>50.42</td>\n",
       "    </tr>\n",
       "    <tr>\n",
       "      <th>BlackRock TCP Capital Corp.</th>\n",
       "      <td>97.13</td>\n",
       "    </tr>\n",
       "    <tr>\n",
       "      <th>CVS Health Corp.</th>\n",
       "      <td>15.69</td>\n",
       "    </tr>\n",
       "    <tr>\n",
       "      <th>Duke Royalty Limited</th>\n",
       "      <td>123.72</td>\n",
       "    </tr>\n",
       "    <tr>\n",
       "      <th>Euronext NV</th>\n",
       "      <td>42.65</td>\n",
       "    </tr>\n",
       "    <tr>\n",
       "      <th>Gladstone Investment Corp.</th>\n",
       "      <td>8.25</td>\n",
       "    </tr>\n",
       "    <tr>\n",
       "      <th>Hamburger Hafen und Logistik AG</th>\n",
       "      <td>49.14</td>\n",
       "    </tr>\n",
       "    <tr>\n",
       "      <th>Hannon Armstrong Sustainable Infra Capital Inc.</th>\n",
       "      <td>20.59</td>\n",
       "    </tr>\n",
       "    <tr>\n",
       "      <th>Microsoft Corp.</th>\n",
       "      <td>18.08</td>\n",
       "    </tr>\n",
       "    <tr>\n",
       "      <th>Norcros Plc</th>\n",
       "      <td>45.38</td>\n",
       "    </tr>\n",
       "    <tr>\n",
       "      <th>Schneider Electric</th>\n",
       "      <td>22.83</td>\n",
       "    </tr>\n",
       "    <tr>\n",
       "      <th>Shell PLC</th>\n",
       "      <td>33.69</td>\n",
       "    </tr>\n",
       "    <tr>\n",
       "      <th>Sixth Street Specialty Lending</th>\n",
       "      <td>63.93</td>\n",
       "    </tr>\n",
       "    <tr>\n",
       "      <th>T Rowe Price GP</th>\n",
       "      <td>38.87</td>\n",
       "    </tr>\n",
       "    <tr>\n",
       "      <th>Teradyne Inc.</th>\n",
       "      <td>2.12</td>\n",
       "    </tr>\n",
       "    <tr>\n",
       "      <th>TotalEnergies SE</th>\n",
       "      <td>120.69</td>\n",
       "    </tr>\n",
       "    <tr>\n",
       "      <th>Trigano SA</th>\n",
       "      <td>20.21</td>\n",
       "    </tr>\n",
       "    <tr>\n",
       "      <th>Visa Inc.</th>\n",
       "      <td>12.09</td>\n",
       "    </tr>\n",
       "    <tr>\n",
       "      <th>Wereldhave Belgium</th>\n",
       "      <td>63.14</td>\n",
       "    </tr>\n",
       "    <tr>\n",
       "      <th>iShares Global Clean Energy ETF</th>\n",
       "      <td>14.03</td>\n",
       "    </tr>\n",
       "  </tbody>\n",
       "</table>\n",
       "</div>"
      ],
      "text/plain": [
       "                                                 Boekingsbedrag (EUR)\n",
       "Instrument                                                           \n",
       "ASML Holding NV                                                 27.19\n",
       "AbbVie Inc.                                                     27.31\n",
       "Adidas                                                          17.01\n",
       "Altria Group, Inc.                                              15.59\n",
       "Amgen Inc.                                                       8.76\n",
       "Atlantica Sustainable Infrastructure                            50.42\n",
       "BlackRock TCP Capital Corp.                                     97.13\n",
       "CVS Health Corp.                                                15.69\n",
       "Duke Royalty Limited                                           123.72\n",
       "Euronext NV                                                     42.65\n",
       "Gladstone Investment Corp.                                       8.25\n",
       "Hamburger Hafen und Logistik AG                                 49.14\n",
       "Hannon Armstrong Sustainable Infra Capital Inc.                 20.59\n",
       "Microsoft Corp.                                                 18.08\n",
       "Norcros Plc                                                     45.38\n",
       "Schneider Electric                                              22.83\n",
       "Shell PLC                                                       33.69\n",
       "Sixth Street Specialty Lending                                  63.93\n",
       "T Rowe Price GP                                                 38.87\n",
       "Teradyne Inc.                                                    2.12\n",
       "TotalEnergies SE                                               120.69\n",
       "Trigano SA                                                      20.21\n",
       "Visa Inc.                                                       12.09\n",
       "Wereldhave Belgium                                              63.14\n",
       "iShares Global Clean Energy ETF                                 14.03"
      ]
     },
     "execution_count": 40,
     "metadata": {},
     "output_type": "execute_result"
    }
   ],
   "source": [
    "df.groupby('Instrument')[['Boekingsbedrag (EUR)']].sum()"
   ]
  },
  {
   "cell_type": "code",
   "execution_count": 39,
   "metadata": {},
   "outputs": [
    {
     "data": {
      "text/plain": [
       "array(['Sixth Street Specialty Lending', 'Altria Group, Inc.',\n",
       "       'Hannon Armstrong Sustainable Infra Capital Inc.',\n",
       "       'Duke Royalty Limited', 'TotalEnergies SE', 'Norcros Plc',\n",
       "       'Gladstone Investment Corp.', 'CVS Health Corp.', 'AbbVie Inc.',\n",
       "       'Visa Inc.', 'Amgen Inc.', 'Microsoft Corp.',\n",
       "       'Atlantica Sustainable Infrastructure', 'Shell PLC',\n",
       "       'T Rowe Price GP', 'BlackRock TCP Capital Corp.',\n",
       "       'Wereldhave Belgium', 'ASML Holding NV', 'Trigano SA', 'Adidas',\n",
       "       'Schneider Electric', 'Euronext NV',\n",
       "       'iShares Global Clean Energy ETF', 'Teradyne Inc.',\n",
       "       'Hamburger Hafen und Logistik AG'], dtype=object)"
      ]
     },
     "execution_count": 39,
     "metadata": {},
     "output_type": "execute_result"
    }
   ],
   "source": [
    "df.Instrument.unique()"
   ]
  },
  {
   "cell_type": "code",
   "execution_count": null,
   "metadata": {},
   "outputs": [],
   "source": []
  }
 ],
 "metadata": {
  "kernelspec": {
   "display_name": "cycling",
   "language": "python",
   "name": "python3"
  },
  "language_info": {
   "codemirror_mode": {
    "name": "ipython",
    "version": 3
   },
   "file_extension": ".py",
   "mimetype": "text/x-python",
   "name": "python",
   "nbconvert_exporter": "python",
   "pygments_lexer": "ipython3",
   "version": "3.10.6 (main, Oct 15 2022, 11:34:39) [Clang 13.1.6 (clang-1316.0.21.2.5)]"
  },
  "orig_nbformat": 4,
  "vscode": {
   "interpreter": {
    "hash": "8ca951d3d600fdeda50107b74045477811d1e32ce56279a22e6e41512d9b0d64"
   }
  }
 },
 "nbformat": 4,
 "nbformat_minor": 2
}
