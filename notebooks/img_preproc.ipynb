{
 "cells": [
  {
   "cell_type": "code",
   "execution_count": 3,
   "metadata": {},
   "outputs": [],
   "source": [
    "import matplotlib.pyplot as plt\n",
    "import keras_ocr\n",
    "import cv2\n",
    "import math\n",
    "import numpy as np\n",
    "import os"
   ]
  },
  {
   "cell_type": "code",
   "execution_count": 2,
   "metadata": {},
   "outputs": [
    {
     "name": "stdout",
     "output_type": "stream",
     "text": [
      "Looking for /Users/michieldekoninck/.keras-ocr/craft_mlt_25k.h5\n",
      "Looking for /Users/michieldekoninck/.keras-ocr/crnn_kurapan.h5\n"
     ]
    }
   ],
   "source": [
    "def midpoint(x1, y1, x2, y2):\n",
    "    x_mid = int((x1 + x2)/2)\n",
    "    y_mid = int((y1 + y2)/2)\n",
    "    return (x_mid, y_mid)\n",
    "\n",
    "pipeline = keras_ocr.pipeline.Pipeline()\n",
    "\n",
    "def inpaint_text(img_path, pipeline, correction_blur=1):\n",
    "    # read image\n",
    "    img = keras_ocr.tools.read(img_path)\n",
    "    \n",
    "    # generate (word, box) tuples \n",
    "    prediction_groups = pipeline.recognize([img])\n",
    "    mask = np.zeros(img.shape[:2], dtype=\"uint8\")\n",
    "    \n",
    "    prediction_groups_str = [[prediction_groups[0][i] for i in range(len(prediction_groups[0])) if not any(char.isdigit() for char in prediction_groups[0][i][0])]]\n",
    "    prediction_groups_num = [[prediction_groups[0][i] for i in range(len(prediction_groups[0])) if any(char.isdigit() for char in prediction_groups[0][i][0])]]\n",
    "    \n",
    "    for box in prediction_groups[0]:\n",
    "        x0, y0 = box[1][0]\n",
    "        x1, y1 = box[1][1] \n",
    "        x2, y2 = box[1][2]\n",
    "        x3, y3 = box[1][3] \n",
    "        \n",
    "        x_mid0, y_mid0 = midpoint(x1, y1, x2, y2)\n",
    "        x_mid1, y_mi1 = midpoint(x0, y0, x3, y3)\n",
    "        \n",
    "        thickness = int(math.sqrt( (x2 - x1)**2 + (y2 - y1)**2 )) - correction_blur\n",
    "        \n",
    "        cv2.line(mask, (x_mid0, y_mid0), (x_mid1, y_mi1), 255,    \n",
    "        thickness)\n",
    "        img = cv2.inpaint(img, mask, 7, cv2.INPAINT_NS)\n",
    "                 \n",
    "    return img, prediction_groups_num"
   ]
  },
  {
   "cell_type": "code",
   "execution_count": null,
   "metadata": {},
   "outputs": [],
   "source": [
    "import os\n",
    "import random\n",
    "from PIL import Image\n",
    "\n",
    "\n",
    "pics = random.sample(os.listdir('../raw_data/img'), 15)\n",
    "\n",
    "pics = os.listdir('../raw_data/img')\n",
    "\n",
    "pics = [x for x in pics if int(x.split(\"_\")[1])>2017]\n",
    "\n",
    "print(len(pics))"
   ]
  },
  {
   "cell_type": "code",
   "execution_count": null,
   "metadata": {},
   "outputs": [],
   "source": [
    "paths = ['../raw_data/img/'+x for x in pics]"
   ]
  },
  {
   "cell_type": "code",
   "execution_count": null,
   "metadata": {},
   "outputs": [],
   "source": [
    "prediction_dict = {}\n",
    "\n",
    "for pic in paths[1401:]:\n",
    "    print(pic.split(\"/\")[-1])\n",
    "    \n",
    "    image, prediction_groups_2 = inpaint_text(pic, pipeline)\n",
    "    \n",
    "    prediction_dict[pic] = prediction_groups_2\n",
    "    \n",
    "    image = cv2.resize(image, (300,150))\n",
    "\n",
    "    #plt.figure(figsize=(30,10))\n",
    "    #plt.imshow(image, cmap=\"gray\")\n",
    "    \n",
    "    im = Image.fromarray(image)\n",
    "    im.save(f'../raw_data/img_300/{pic.split(\"/\")[-1]}')\n",
    "        \n",
    "    #plt.show()\n",
    "    \n",
    "    # im = Image.fromarray(image)\n",
    "    # im.save(f'../raw_data/img_300/{pic.split(\"/\")[-1]}')"
   ]
  }
 ],
 "metadata": {
  "kernelspec": {
   "display_name": "cycling",
   "language": "python",
   "name": "python3"
  },
  "language_info": {
   "codemirror_mode": {
    "name": "ipython",
    "version": 3
   },
   "file_extension": ".py",
   "mimetype": "text/x-python",
   "name": "python",
   "nbconvert_exporter": "python",
   "pygments_lexer": "ipython3",
   "version": "3.10.6"
  },
  "orig_nbformat": 4,
  "vscode": {
   "interpreter": {
    "hash": "8ca951d3d600fdeda50107b74045477811d1e32ce56279a22e6e41512d9b0d64"
   }
  }
 },
 "nbformat": 4,
 "nbformat_minor": 2
}
