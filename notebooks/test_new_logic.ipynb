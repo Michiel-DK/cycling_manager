{
 "cells": [
  {
   "cell_type": "code",
   "execution_count": 5,
   "metadata": {},
   "outputs": [],
   "source": [
    "from cycling_manager.preprocess import get_data, preprocess, split\n",
    "from cycling_manager.new_sequences import get_num_sequence, get_images, get_full_sequence"
   ]
  },
  {
   "cell_type": "code",
   "execution_count": 6,
   "metadata": {},
   "outputs": [
    {
     "name": "stdout",
     "output_type": "stream",
     "text": [
      "\u001b[38;5;2mfull df shape (603619, 25)\u001b[0m\n",
      "\u001b[38;5;2mfull df shape (603619, 25)\u001b[0m\n",
      "\u001b[38;5;3mScore vertical meters - model: DecisionTreeRegressor() score: 0.9995649935680297\u001b[0m\n",
      "\u001b[38;5;3mScore vertical meters - model: DecisionTreeRegressor() score: 0.9999393254142834\u001b[0m\n",
      "\u001b[38;5;3mScore vertical meters - model: KNeighborsClassifier() score: 0.9946432086869127\u001b[0m\n"
     ]
    }
   ],
   "source": [
    "df = preprocess(get_data())"
   ]
  },
  {
   "cell_type": "code",
   "execution_count": 7,
   "metadata": {},
   "outputs": [
    {
     "data": {
      "text/html": [
       "<div>\n",
       "<style scoped>\n",
       "    .dataframe tbody tr th:only-of-type {\n",
       "        vertical-align: middle;\n",
       "    }\n",
       "\n",
       "    .dataframe tbody tr th {\n",
       "        vertical-align: top;\n",
       "    }\n",
       "\n",
       "    .dataframe thead th {\n",
       "        text-align: right;\n",
       "    }\n",
       "</style>\n",
       "<table border=\"1\" class=\"dataframe\">\n",
       "  <thead>\n",
       "    <tr style=\"text-align: right;\">\n",
       "      <th></th>\n",
       "      <th>name</th>\n",
       "      <th>year</th>\n",
       "      <th>race_name</th>\n",
       "    </tr>\n",
       "  </thead>\n",
       "  <tbody>\n",
       "    <tr>\n",
       "      <th>0</th>\n",
       "      <td>tadej-pogacar</td>\n",
       "      <td>2021</td>\n",
       "      <td>tour-de-france</td>\n",
       "    </tr>\n",
       "    <tr>\n",
       "      <th>369</th>\n",
       "      <td>sepp-kuss</td>\n",
       "      <td>2021</td>\n",
       "      <td>vuelta-a-espana</td>\n",
       "    </tr>\n",
       "    <tr>\n",
       "      <th>363</th>\n",
       "      <td>mikel-landa</td>\n",
       "      <td>2021</td>\n",
       "      <td>giro-d-italia</td>\n",
       "    </tr>\n",
       "    <tr>\n",
       "      <th>364</th>\n",
       "      <td>krists-neilands</td>\n",
       "      <td>2021</td>\n",
       "      <td>giro-d-italia</td>\n",
       "    </tr>\n",
       "    <tr>\n",
       "      <th>365</th>\n",
       "      <td>rafal-majka</td>\n",
       "      <td>2021</td>\n",
       "      <td>vuelta-a-espana</td>\n",
       "    </tr>\n",
       "  </tbody>\n",
       "</table>\n",
       "</div>"
      ],
      "text/plain": [
       "                name  year        race_name\n",
       "0      tadej-pogacar  2021   tour-de-france\n",
       "369        sepp-kuss  2021  vuelta-a-espana\n",
       "363      mikel-landa  2021    giro-d-italia\n",
       "364  krists-neilands  2021    giro-d-italia\n",
       "365      rafal-majka  2021  vuelta-a-espana"
      ]
     },
     "execution_count": 7,
     "metadata": {},
     "output_type": "execute_result"
    }
   ],
   "source": [
    "train, test = split(df, 2021, 2022)\n",
    "train.head()"
   ]
  },
  {
   "cell_type": "code",
   "execution_count": 8,
   "metadata": {},
   "outputs": [
    {
     "name": "stderr",
     "output_type": "stream",
     "text": [
      "[ WARN:0@24.582] global /Users/xperience/actions-runner/_work/opencv-python/opencv-python/opencv/modules/imgcodecs/src/loadsave.cpp (239) findDecoder imread_('../raw_data/img_300/czech-cycling-tour_2021_stage-2.jpg'): can't open/read file: check file path/integrity\n",
      "[ WARN:0@24.582] global /Users/xperience/actions-runner/_work/opencv-python/opencv-python/opencv/modules/imgcodecs/src/loadsave.cpp (239) findDecoder imread_('../raw_data/img_300/czech-cycling-tour_2021_stage-3.jpg'): can't open/read file: check file path/integrity\n",
      "[ WARN:0@24.887] global /Users/xperience/actions-runner/_work/opencv-python/opencv-python/opencv/modules/imgcodecs/src/loadsave.cpp (239) findDecoder imread_('../raw_data/img_300/czech-cycling-tour_2020_stage-4.jpg'): can't open/read file: check file path/integrity\n",
      "[ WARN:0@25.027] global /Users/xperience/actions-runner/_work/opencv-python/opencv-python/opencv/modules/imgcodecs/src/loadsave.cpp (239) findDecoder imread_('../raw_data/img_300/czech-cycling-tour_2021_stage-2.jpg'): can't open/read file: check file path/integrity\n",
      "[ WARN:0@25.027] global /Users/xperience/actions-runner/_work/opencv-python/opencv-python/opencv/modules/imgcodecs/src/loadsave.cpp (239) findDecoder imread_('../raw_data/img_300/czech-cycling-tour_2021_stage-3.jpg'): can't open/read file: check file path/integrity\n",
      "[ WARN:0@25.027] global /Users/xperience/actions-runner/_work/opencv-python/opencv-python/opencv/modules/imgcodecs/src/loadsave.cpp (239) findDecoder imread_('../raw_data/img_300/czech-cycling-tour_2021_stage-4.jpg'): can't open/read file: check file path/integrity\n",
      "[ WARN:0@25.099] global /Users/xperience/actions-runner/_work/opencv-python/opencv-python/opencv/modules/imgcodecs/src/loadsave.cpp (239) findDecoder imread_('../raw_data/img_300/czech-cycling-tour_2021_stage-2.jpg'): can't open/read file: check file path/integrity\n",
      "[ WARN:0@25.100] global /Users/xperience/actions-runner/_work/opencv-python/opencv-python/opencv/modules/imgcodecs/src/loadsave.cpp (239) findDecoder imread_('../raw_data/img_300/czech-cycling-tour_2021_stage-3.jpg'): can't open/read file: check file path/integrity\n",
      "[ WARN:0@25.100] global /Users/xperience/actions-runner/_work/opencv-python/opencv-python/opencv/modules/imgcodecs/src/loadsave.cpp (239) findDecoder imread_('../raw_data/img_300/czech-cycling-tour_2021_stage-4.jpg'): can't open/read file: check file path/integrity\n",
      "[ WARN:0@25.321] global /Users/xperience/actions-runner/_work/opencv-python/opencv-python/opencv/modules/imgcodecs/src/loadsave.cpp (239) findDecoder imread_('../raw_data/img_300/czech-cycling-tour_2021_stage-2.jpg'): can't open/read file: check file path/integrity\n",
      "[ WARN:0@25.321] global /Users/xperience/actions-runner/_work/opencv-python/opencv-python/opencv/modules/imgcodecs/src/loadsave.cpp (239) findDecoder imread_('../raw_data/img_300/czech-cycling-tour_2021_stage-3.jpg'): can't open/read file: check file path/integrity\n",
      "[ WARN:0@25.321] global /Users/xperience/actions-runner/_work/opencv-python/opencv-python/opencv/modules/imgcodecs/src/loadsave.cpp (239) findDecoder imread_('../raw_data/img_300/czech-cycling-tour_2021_stage-4.jpg'): can't open/read file: check file path/integrity\n",
      "[ WARN:0@25.783] global /Users/xperience/actions-runner/_work/opencv-python/opencv-python/opencv/modules/imgcodecs/src/loadsave.cpp (239) findDecoder imread_('../raw_data/img_300/czech-cycling-tour_2020_stage-4.jpg'): can't open/read file: check file path/integrity\n",
      "[ WARN:0@26.906] global /Users/xperience/actions-runner/_work/opencv-python/opencv-python/opencv/modules/imgcodecs/src/loadsave.cpp (239) findDecoder imread_('../raw_data/img_300/nc-australia_2021_result.jpg'): can't open/read file: check file path/integrity\n",
      "[ WARN:0@28.516] global /Users/xperience/actions-runner/_work/opencv-python/opencv-python/opencv/modules/imgcodecs/src/loadsave.cpp (239) findDecoder imread_('../raw_data/img_300/czech-cycling-tour_2020_stage-4.jpg'): can't open/read file: check file path/integrity\n",
      "[ WARN:0@33.506] global /Users/xperience/actions-runner/_work/opencv-python/opencv-python/opencv/modules/imgcodecs/src/loadsave.cpp (239) findDecoder imread_('../raw_data/img_300/czech-cycling-tour_2020_stage-4.jpg'): can't open/read file: check file path/integrity\n",
      "[ WARN:0@33.864] global /Users/xperience/actions-runner/_work/opencv-python/opencv-python/opencv/modules/imgcodecs/src/loadsave.cpp (239) findDecoder imread_('../raw_data/img_300/czech-cycling-tour_2020_stage-4.jpg'): can't open/read file: check file path/integrity\n",
      "[ WARN:0@39.086] global /Users/xperience/actions-runner/_work/opencv-python/opencv-python/opencv/modules/imgcodecs/src/loadsave.cpp (239) findDecoder imread_('../raw_data/img_300/nc-australia_2021_result.jpg'): can't open/read file: check file path/integrity\n",
      "[ WARN:0@46.088] global /Users/xperience/actions-runner/_work/opencv-python/opencv-python/opencv/modules/imgcodecs/src/loadsave.cpp (239) findDecoder imread_('../raw_data/img_300/nc-australia_2021_result.jpg'): can't open/read file: check file path/integrity\n",
      "[ WARN:0@51.658] global /Users/xperience/actions-runner/_work/opencv-python/opencv-python/opencv/modules/imgcodecs/src/loadsave.cpp (239) findDecoder imread_('../raw_data/img_300/czech-cycling-tour_2020_stage-4.jpg'): can't open/read file: check file path/integrity\n",
      "[ WARN:0@57.463] global /Users/xperience/actions-runner/_work/opencv-python/opencv-python/opencv/modules/imgcodecs/src/loadsave.cpp (239) findDecoder imread_('../raw_data/img_300/czech-cycling-tour_2019_stage-4.jpg'): can't open/read file: check file path/integrity\n"
     ]
    },
    {
     "name": "stdout",
     "output_type": "stream",
     "text": [
      "(519, 21, 5) (519, 21, 1) (519, 40, 14) (519, 40, 1) (519, 21, 150, 300, 3) (519, 20, 150, 300, 3) (519, 20)\n"
     ]
    }
   ],
   "source": [
    "X_decoder_num_ls, y_decoder_ls, X_encoder_num_no_y_ls, y_encoder_num_ls, X_img_decoder_ls, X_img_encoder_ls, y_img_encoder_ls =\\\n",
    "    get_full_sequence(df, train, maxlen_num=40, maxlen_img=20, img=True, binary=True, y_encoder = True, num_cap=9999, img_cap=20, resnet=False)"
   ]
  },
  {
   "cell_type": "code",
   "execution_count": 9,
   "metadata": {},
   "outputs": [
    {
     "name": "stderr",
     "output_type": "stream",
     "text": [
      "[ WARN:0@66.696] global /Users/xperience/actions-runner/_work/opencv-python/opencv-python/opencv/modules/imgcodecs/src/loadsave.cpp (239) findDecoder imread_('../raw_data/img_300/czech-cycling-tour_2021_stage-2.jpg'): can't open/read file: check file path/integrity\n",
      "[ WARN:0@66.697] global /Users/xperience/actions-runner/_work/opencv-python/opencv-python/opencv/modules/imgcodecs/src/loadsave.cpp (239) findDecoder imread_('../raw_data/img_300/czech-cycling-tour_2021_stage-3.jpg'): can't open/read file: check file path/integrity\n",
      "[ WARN:0@66.994] global /Users/xperience/actions-runner/_work/opencv-python/opencv-python/opencv/modules/imgcodecs/src/loadsave.cpp (239) findDecoder imread_('../raw_data/img_300/czech-cycling-tour_2020_stage-4.jpg'): can't open/read file: check file path/integrity\n",
      "[ WARN:0@67.138] global /Users/xperience/actions-runner/_work/opencv-python/opencv-python/opencv/modules/imgcodecs/src/loadsave.cpp (239) findDecoder imread_('../raw_data/img_300/czech-cycling-tour_2021_stage-2.jpg'): can't open/read file: check file path/integrity\n",
      "[ WARN:0@67.138] global /Users/xperience/actions-runner/_work/opencv-python/opencv-python/opencv/modules/imgcodecs/src/loadsave.cpp (239) findDecoder imread_('../raw_data/img_300/czech-cycling-tour_2021_stage-3.jpg'): can't open/read file: check file path/integrity\n",
      "[ WARN:0@67.138] global /Users/xperience/actions-runner/_work/opencv-python/opencv-python/opencv/modules/imgcodecs/src/loadsave.cpp (239) findDecoder imread_('../raw_data/img_300/czech-cycling-tour_2021_stage-4.jpg'): can't open/read file: check file path/integrity\n",
      "[ WARN:0@67.210] global /Users/xperience/actions-runner/_work/opencv-python/opencv-python/opencv/modules/imgcodecs/src/loadsave.cpp (239) findDecoder imread_('../raw_data/img_300/czech-cycling-tour_2021_stage-2.jpg'): can't open/read file: check file path/integrity\n",
      "[ WARN:0@67.210] global /Users/xperience/actions-runner/_work/opencv-python/opencv-python/opencv/modules/imgcodecs/src/loadsave.cpp (239) findDecoder imread_('../raw_data/img_300/czech-cycling-tour_2021_stage-3.jpg'): can't open/read file: check file path/integrity\n",
      "[ WARN:0@67.210] global /Users/xperience/actions-runner/_work/opencv-python/opencv-python/opencv/modules/imgcodecs/src/loadsave.cpp (239) findDecoder imread_('../raw_data/img_300/czech-cycling-tour_2021_stage-4.jpg'): can't open/read file: check file path/integrity\n",
      "[ WARN:0@67.421] global /Users/xperience/actions-runner/_work/opencv-python/opencv-python/opencv/modules/imgcodecs/src/loadsave.cpp (239) findDecoder imread_('../raw_data/img_300/czech-cycling-tour_2021_stage-2.jpg'): can't open/read file: check file path/integrity\n",
      "[ WARN:0@67.421] global /Users/xperience/actions-runner/_work/opencv-python/opencv-python/opencv/modules/imgcodecs/src/loadsave.cpp (239) findDecoder imread_('../raw_data/img_300/czech-cycling-tour_2021_stage-3.jpg'): can't open/read file: check file path/integrity\n",
      "[ WARN:0@67.421] global /Users/xperience/actions-runner/_work/opencv-python/opencv-python/opencv/modules/imgcodecs/src/loadsave.cpp (239) findDecoder imread_('../raw_data/img_300/czech-cycling-tour_2021_stage-4.jpg'): can't open/read file: check file path/integrity\n",
      "[ WARN:0@67.857] global /Users/xperience/actions-runner/_work/opencv-python/opencv-python/opencv/modules/imgcodecs/src/loadsave.cpp (239) findDecoder imread_('../raw_data/img_300/czech-cycling-tour_2020_stage-4.jpg'): can't open/read file: check file path/integrity\n",
      "[ WARN:0@68.924] global /Users/xperience/actions-runner/_work/opencv-python/opencv-python/opencv/modules/imgcodecs/src/loadsave.cpp (239) findDecoder imread_('../raw_data/img_300/nc-australia_2021_result.jpg'): can't open/read file: check file path/integrity\n",
      "[ WARN:0@70.490] global /Users/xperience/actions-runner/_work/opencv-python/opencv-python/opencv/modules/imgcodecs/src/loadsave.cpp (239) findDecoder imread_('../raw_data/img_300/czech-cycling-tour_2020_stage-4.jpg'): can't open/read file: check file path/integrity\n",
      "[ WARN:0@75.418] global /Users/xperience/actions-runner/_work/opencv-python/opencv-python/opencv/modules/imgcodecs/src/loadsave.cpp (239) findDecoder imread_('../raw_data/img_300/czech-cycling-tour_2020_stage-4.jpg'): can't open/read file: check file path/integrity\n",
      "[ WARN:0@75.769] global /Users/xperience/actions-runner/_work/opencv-python/opencv-python/opencv/modules/imgcodecs/src/loadsave.cpp (239) findDecoder imread_('../raw_data/img_300/czech-cycling-tour_2020_stage-4.jpg'): can't open/read file: check file path/integrity\n",
      "[ WARN:0@81.061] global /Users/xperience/actions-runner/_work/opencv-python/opencv-python/opencv/modules/imgcodecs/src/loadsave.cpp (239) findDecoder imread_('../raw_data/img_300/nc-australia_2021_result.jpg'): can't open/read file: check file path/integrity\n",
      "[ WARN:0@88.033] global /Users/xperience/actions-runner/_work/opencv-python/opencv-python/opencv/modules/imgcodecs/src/loadsave.cpp (239) findDecoder imread_('../raw_data/img_300/nc-australia_2021_result.jpg'): can't open/read file: check file path/integrity\n",
      "[ WARN:0@93.642] global /Users/xperience/actions-runner/_work/opencv-python/opencv-python/opencv/modules/imgcodecs/src/loadsave.cpp (239) findDecoder imread_('../raw_data/img_300/czech-cycling-tour_2020_stage-4.jpg'): can't open/read file: check file path/integrity\n",
      "[ WARN:0@99.458] global /Users/xperience/actions-runner/_work/opencv-python/opencv-python/opencv/modules/imgcodecs/src/loadsave.cpp (239) findDecoder imread_('../raw_data/img_300/czech-cycling-tour_2019_stage-4.jpg'): can't open/read file: check file path/integrity\n"
     ]
    },
    {
     "name": "stdout",
     "output_type": "stream",
     "text": [
      "(519, 21, 5) (519, 21, 1) (519, 40, 14) (519, 40, 1) (519, 21, 150, 300, 3) (519, 20, 150, 300, 3) (519, 20)\n"
     ]
    }
   ],
   "source": [
    "X_decoder_num_test, y_decoder_test, X_encoder_num_no_y_test, y_encoder_num_test, X_img_decoder_test, X_img_encoder_test, y_img_encoder_test =\\\n",
    "    get_full_sequence(df, train, maxlen_num=40, maxlen_img=20, img=True, binary=True, y_encoder = True, num_cap=20, img_cap=20, resnet=False)"
   ]
  },
  {
   "cell_type": "code",
   "execution_count": 10,
   "metadata": {},
   "outputs": [],
   "source": [
    "from cycling_manager.model_comb import *"
   ]
  },
  {
   "cell_type": "code",
   "execution_count": 11,
   "metadata": {},
   "outputs": [],
   "source": [
    "from tensorflow.keras.layers import Normalization\n",
    "\n",
    "def numerical_model(num_encoder_features):\n",
    "\n",
    "    masking = Masking(mask_value=-1000.)(num_encoder_features)\n",
    "    \n",
    "    normalizer = LayerNormalization()(masking)\n",
    "    lstm1 = LSTM(units=20, dropout=0.2, return_sequences=True, activation='tanh')(normalizer)\n",
    "    lstm2 = LSTM(units=40, dropout=0.2, return_sequences=True, activation='tanh')(lstm1)\n",
    "    #output one time step from the sequence for each time step in the input but process 5 outputs of the input sequence at a time\n",
    "    #y = TimeDistributed(Dense(units=5, activation='tanh'))(y)\n",
    "    #attention_layer = attention()(y)\n",
    "    lstm3 = LSTM(units=10, dropout=0.2, return_sequences=True, activation='tanh')(lstm2)\n",
    "    dense1 = Dense(units=30, activation='relu')(lstm3)\n",
    "    dense2 = Dense(units=10, activation='relu')(dense1)\n",
    "    y = Dense(units=1, activation='linear')(dense2)\n",
    "    \n",
    "    return y\n",
    "    \n",
    "    "
   ]
  },
  {
   "cell_type": "code",
   "execution_count": 12,
   "metadata": {},
   "outputs": [
    {
     "name": "stdout",
     "output_type": "stream",
     "text": [
      "(None, 40, 1)\n",
      "(None, 40, 14)\n"
     ]
    }
   ],
   "source": [
    "from tensorflow.keras.optimizers import Adam\n",
    "from tensorflow.keras import Model\n",
    "\n",
    "encoder_features = Input(shape=X_encoder_num_no_y_ls.shape[1:])\n",
    "\n",
    "num_encoder_outputs = numerical_model(encoder_features)\n",
    "\n",
    "print(num_encoder_outputs.shape)\n",
    "print(encoder_features.shape)\n",
    "\n",
    "num = Model(encoder_features, num_encoder_outputs)\n",
    "\n",
    "num.compile(loss='mse', optimizer=Adam(), metrics='mae')"
   ]
  },
  {
   "cell_type": "code",
   "execution_count": 13,
   "metadata": {},
   "outputs": [],
   "source": [
    "\n",
    "from tensorflow.keras.callbacks import EarlyStopping\n",
    "\n",
    "from tensorflow.keras.optimizers.schedules import ExponentialDecay\n",
    "\n",
    "initial_learning_rate = 0.001\n",
    "\n",
    "lr_schedule = ExponentialDecay(initial_learning_rate, decay_steps=1000, decay_rate=0.05)\n",
    "\n",
    "adam = Adam(learning_rate=lr_schedule)\n",
    "\n",
    "num.compile(loss='mae', optimizer=adam, metrics='mae')"
   ]
  },
  {
   "cell_type": "code",
   "execution_count": null,
   "metadata": {},
   "outputs": [
    {
     "name": "stdout",
     "output_type": "stream",
     "text": [
      "Epoch 1/1000\n",
      "26/26 [==============================] - 10s 102ms/step - loss: 33.3752 - mae: 36.8493 - val_loss: 34.5226 - val_mae: 39.0361\n",
      "Epoch 2/1000\n",
      "26/26 [==============================] - 1s 24ms/step - loss: 33.2647 - mae: 36.7273 - val_loss: 34.5188 - val_mae: 39.0318\n",
      "Epoch 3/1000\n",
      "26/26 [==============================] - 1s 24ms/step - loss: 33.2961 - mae: 36.7619 - val_loss: 34.5194 - val_mae: 39.0326\n",
      "Epoch 4/1000\n",
      "26/26 [==============================] - 1s 24ms/step - loss: 33.2532 - mae: 36.7146 - val_loss: 34.5105 - val_mae: 39.0225\n",
      "Epoch 5/1000\n",
      "26/26 [==============================] - 1s 23ms/step - loss: 33.2641 - mae: 36.7266 - val_loss: 34.5099 - val_mae: 39.0218\n",
      "Epoch 6/1000\n",
      "26/26 [==============================] - 1s 24ms/step - loss: 33.2648 - mae: 36.7273 - val_loss: 34.5095 - val_mae: 39.0213\n",
      "Epoch 7/1000\n",
      "26/26 [==============================] - 1s 23ms/step - loss: 33.2638 - mae: 36.7262 - val_loss: 34.5143 - val_mae: 39.0267\n",
      "Epoch 8/1000\n",
      "26/26 [==============================] - 1s 24ms/step - loss: 33.2607 - mae: 36.7228 - val_loss: 34.5100 - val_mae: 39.0219\n",
      "Epoch 9/1000\n",
      "26/26 [==============================] - 1s 24ms/step - loss: 33.2650 - mae: 36.7275 - val_loss: 34.5092 - val_mae: 39.0210\n",
      "Epoch 10/1000\n",
      "26/26 [==============================] - 1s 23ms/step - loss: 33.2594 - mae: 36.7213 - val_loss: 34.5095 - val_mae: 39.0213\n",
      "Epoch 11/1000\n",
      "26/26 [==============================] - 1s 24ms/step - loss: 33.2585 - mae: 36.7204 - val_loss: 34.5100 - val_mae: 39.0219\n",
      "Epoch 12/1000\n",
      "26/26 [==============================] - 1s 24ms/step - loss: 33.2632 - mae: 36.7256 - val_loss: 34.5103 - val_mae: 39.0223\n",
      "Epoch 13/1000\n",
      "26/26 [==============================] - 1s 24ms/step - loss: 33.2580 - mae: 36.7198 - val_loss: 34.5096 - val_mae: 39.0214\n",
      "Epoch 14/1000\n",
      "26/26 [==============================] - 1s 24ms/step - loss: 33.2637 - mae: 36.7261 - val_loss: 34.5095 - val_mae: 39.0214\n",
      "Epoch 15/1000\n",
      "26/26 [==============================] - 1s 24ms/step - loss: 33.2612 - mae: 36.7234 - val_loss: 34.5124 - val_mae: 39.0246\n",
      "Epoch 16/1000\n",
      "26/26 [==============================] - 1s 24ms/step - loss: 33.2610 - mae: 36.7231 - val_loss: 34.5091 - val_mae: 39.0209\n",
      "Epoch 17/1000\n",
      "26/26 [==============================] - 1s 23ms/step - loss: 33.2574 - mae: 36.7192 - val_loss: 34.5095 - val_mae: 39.0214\n",
      "Epoch 18/1000\n",
      "26/26 [==============================] - 1s 23ms/step - loss: 33.2590 - mae: 36.7209 - val_loss: 34.5101 - val_mae: 39.0221\n",
      "Epoch 19/1000\n",
      "26/26 [==============================] - 1s 23ms/step - loss: 33.2581 - mae: 36.7200 - val_loss: 34.5083 - val_mae: 39.0200\n",
      "Epoch 20/1000\n",
      "26/26 [==============================] - 1s 23ms/step - loss: 33.2582 - mae: 36.7200 - val_loss: 34.5082 - val_mae: 39.0199\n",
      "Epoch 21/1000\n",
      "26/26 [==============================] - 1s 23ms/step - loss: 33.2556 - mae: 36.7172 - val_loss: 34.5073 - val_mae: 39.0189\n",
      "Epoch 22/1000\n",
      "26/26 [==============================] - 1s 24ms/step - loss: 33.2568 - mae: 36.7185 - val_loss: 34.5057 - val_mae: 39.0170\n",
      "Epoch 23/1000\n",
      "26/26 [==============================] - 1s 24ms/step - loss: 33.2529 - mae: 36.7142 - val_loss: 34.5027 - val_mae: 39.0137\n",
      "Epoch 24/1000\n",
      "26/26 [==============================] - 1s 24ms/step - loss: 33.2510 - mae: 36.7122 - val_loss: 34.4973 - val_mae: 39.0075\n",
      "Epoch 25/1000\n",
      "26/26 [==============================] - 1s 23ms/step - loss: 33.2431 - mae: 36.7034 - val_loss: 34.4851 - val_mae: 38.9937\n",
      "Epoch 26/1000\n",
      "26/26 [==============================] - 1s 23ms/step - loss: 33.2301 - mae: 36.6891 - val_loss: 34.4644 - val_mae: 38.9704\n",
      "Epoch 27/1000\n",
      "26/26 [==============================] - 1s 24ms/step - loss: 33.2073 - mae: 36.6638 - val_loss: 34.4273 - val_mae: 38.9284\n",
      "Epoch 28/1000\n",
      "26/26 [==============================] - 1s 24ms/step - loss: 33.1838 - mae: 36.6379 - val_loss: 34.3740 - val_mae: 38.8681\n",
      "Epoch 29/1000\n",
      "26/26 [==============================] - 1s 23ms/step - loss: 33.1437 - mae: 36.5936 - val_loss: 34.3152 - val_mae: 38.8016\n",
      "Epoch 30/1000\n",
      "26/26 [==============================] - 1s 23ms/step - loss: 33.1065 - mae: 36.5525 - val_loss: 34.2434 - val_mae: 38.7204\n",
      "Epoch 31/1000\n",
      "26/26 [==============================] - 1s 23ms/step - loss: 33.0632 - mae: 36.5048 - val_loss: 34.1761 - val_mae: 38.6443\n",
      "Epoch 32/1000\n",
      "26/26 [==============================] - 1s 24ms/step - loss: 33.0081 - mae: 36.4440 - val_loss: 34.0921 - val_mae: 38.5494\n",
      "Epoch 33/1000\n",
      "26/26 [==============================] - 1s 24ms/step - loss: 32.9585 - mae: 36.3891 - val_loss: 34.0260 - val_mae: 38.4746\n",
      "Epoch 34/1000\n",
      "26/26 [==============================] - 1s 23ms/step - loss: 32.9066 - mae: 36.3318 - val_loss: 33.9544 - val_mae: 38.3936\n",
      "Epoch 35/1000\n",
      "26/26 [==============================] - 1s 23ms/step - loss: 32.8864 - mae: 36.3096 - val_loss: 33.8936 - val_mae: 38.3250\n",
      "Epoch 36/1000\n",
      "26/26 [==============================] - 1s 23ms/step - loss: 32.8492 - mae: 36.2685 - val_loss: 33.8412 - val_mae: 38.2657\n",
      "Epoch 37/1000\n",
      "26/26 [==============================] - 1s 23ms/step - loss: 32.8222 - mae: 36.2387 - val_loss: 33.7967 - val_mae: 38.2154\n",
      "Epoch 38/1000\n",
      "26/26 [==============================] - 1s 24ms/step - loss: 32.7718 - mae: 36.1830 - val_loss: 33.7398 - val_mae: 38.1510\n",
      "Epoch 39/1000\n",
      "26/26 [==============================] - 1s 24ms/step - loss: 32.7652 - mae: 36.1757 - val_loss: 33.6986 - val_mae: 38.1045\n",
      "Epoch 40/1000\n",
      "26/26 [==============================] - 1s 24ms/step - loss: 32.7426 - mae: 36.1508 - val_loss: 33.6575 - val_mae: 38.0579\n",
      "Epoch 41/1000\n",
      "26/26 [==============================] - 1s 24ms/step - loss: 32.7083 - mae: 36.1130 - val_loss: 33.6254 - val_mae: 38.0216\n",
      "Epoch 42/1000\n",
      "26/26 [==============================] - 1s 24ms/step - loss: 32.7065 - mae: 36.1109 - val_loss: 33.5962 - val_mae: 37.9886\n",
      "Epoch 43/1000\n",
      "26/26 [==============================] - 1s 24ms/step - loss: 32.6888 - mae: 36.0914 - val_loss: 33.5650 - val_mae: 37.9534\n",
      "Epoch 44/1000\n",
      "26/26 [==============================] - 1s 23ms/step - loss: 32.6727 - mae: 36.0736 - val_loss: 33.5391 - val_mae: 37.9241\n",
      "Epoch 45/1000\n",
      "26/26 [==============================] - 1s 23ms/step - loss: 32.6391 - mae: 36.0366 - val_loss: 33.5113 - val_mae: 37.8926\n",
      "Epoch 46/1000\n",
      "26/26 [==============================] - 1s 24ms/step - loss: 32.6586 - mae: 36.0580 - val_loss: 33.4908 - val_mae: 37.8694\n",
      "Epoch 47/1000\n",
      "26/26 [==============================] - 1s 24ms/step - loss: 32.6043 - mae: 35.9981 - val_loss: 33.4696 - val_mae: 37.8454\n",
      "Epoch 48/1000\n",
      "26/26 [==============================] - 1s 24ms/step - loss: 32.6173 - mae: 36.0124 - val_loss: 33.4495 - val_mae: 37.8228\n",
      "Epoch 49/1000\n",
      "26/26 [==============================] - 1s 24ms/step - loss: 32.6232 - mae: 36.0190 - val_loss: 33.4335 - val_mae: 37.8047\n",
      "Epoch 50/1000\n",
      "25/26 [===========================>..] - ETA: 0s - loss: 32.5633 - mae: 35.9741"
     ]
    },
    {
     "ename": "KeyboardInterrupt",
     "evalue": "",
     "output_type": "error",
     "traceback": [
      "\u001b[0;31m---------------------------------------------------------------------------\u001b[0m",
      "\u001b[0;31mKeyboardInterrupt\u001b[0m                         Traceback (most recent call last)",
      "Cell \u001b[0;32mIn[45], line 7\u001b[0m\n\u001b[1;32m      1\u001b[0m es \u001b[39m=\u001b[39m EarlyStopping(monitor\u001b[39m=\u001b[39m\u001b[39m\"\u001b[39m\u001b[39mval_loss\u001b[39m\u001b[39m\"\u001b[39m,\n\u001b[1;32m      2\u001b[0m                        patience\u001b[39m=\u001b[39m\u001b[39m3\u001b[39m,\n\u001b[1;32m      3\u001b[0m                        restore_best_weights\u001b[39m=\u001b[39m\u001b[39mTrue\u001b[39;00m,\n\u001b[1;32m      4\u001b[0m                        verbose\u001b[39m=\u001b[39m\u001b[39m0\u001b[39m)\n\u001b[0;32m----> 7\u001b[0m num\u001b[39m.\u001b[39;49mfit(X_encoder_num_no_y_ls, y_encoder_num_ls, batch_size\u001b[39m=\u001b[39;49m\u001b[39m16\u001b[39;49m, epochs\u001b[39m=\u001b[39;49m\u001b[39m1000\u001b[39;49m, validation_split\u001b[39m=\u001b[39;49m\u001b[39m0.2\u001b[39;49m)\n",
      "File \u001b[0;32m~/.pyenv/versions/3.10.6/envs/cycling/lib/python3.10/site-packages/keras/utils/traceback_utils.py:65\u001b[0m, in \u001b[0;36mfilter_traceback.<locals>.error_handler\u001b[0;34m(*args, **kwargs)\u001b[0m\n\u001b[1;32m     63\u001b[0m filtered_tb \u001b[39m=\u001b[39m \u001b[39mNone\u001b[39;00m\n\u001b[1;32m     64\u001b[0m \u001b[39mtry\u001b[39;00m:\n\u001b[0;32m---> 65\u001b[0m     \u001b[39mreturn\u001b[39;00m fn(\u001b[39m*\u001b[39;49margs, \u001b[39m*\u001b[39;49m\u001b[39m*\u001b[39;49mkwargs)\n\u001b[1;32m     66\u001b[0m \u001b[39mexcept\u001b[39;00m \u001b[39mException\u001b[39;00m \u001b[39mas\u001b[39;00m e:\n\u001b[1;32m     67\u001b[0m     filtered_tb \u001b[39m=\u001b[39m _process_traceback_frames(e\u001b[39m.\u001b[39m__traceback__)\n",
      "File \u001b[0;32m~/.pyenv/versions/3.10.6/envs/cycling/lib/python3.10/site-packages/keras/engine/training.py:1606\u001b[0m, in \u001b[0;36mModel.fit\u001b[0;34m(self, x, y, batch_size, epochs, verbose, callbacks, validation_split, validation_data, shuffle, class_weight, sample_weight, initial_epoch, steps_per_epoch, validation_steps, validation_batch_size, validation_freq, max_queue_size, workers, use_multiprocessing)\u001b[0m\n\u001b[1;32m   1591\u001b[0m \u001b[39mif\u001b[39;00m \u001b[39mgetattr\u001b[39m(\u001b[39mself\u001b[39m, \u001b[39m\"\u001b[39m\u001b[39m_eval_data_handler\u001b[39m\u001b[39m\"\u001b[39m, \u001b[39mNone\u001b[39;00m) \u001b[39mis\u001b[39;00m \u001b[39mNone\u001b[39;00m:\n\u001b[1;32m   1592\u001b[0m     \u001b[39mself\u001b[39m\u001b[39m.\u001b[39m_eval_data_handler \u001b[39m=\u001b[39m data_adapter\u001b[39m.\u001b[39mget_data_handler(\n\u001b[1;32m   1593\u001b[0m         x\u001b[39m=\u001b[39mval_x,\n\u001b[1;32m   1594\u001b[0m         y\u001b[39m=\u001b[39mval_y,\n\u001b[0;32m   (...)\u001b[0m\n\u001b[1;32m   1604\u001b[0m         steps_per_execution\u001b[39m=\u001b[39m\u001b[39mself\u001b[39m\u001b[39m.\u001b[39m_steps_per_execution,\n\u001b[1;32m   1605\u001b[0m     )\n\u001b[0;32m-> 1606\u001b[0m val_logs \u001b[39m=\u001b[39m \u001b[39mself\u001b[39;49m\u001b[39m.\u001b[39;49mevaluate(\n\u001b[1;32m   1607\u001b[0m     x\u001b[39m=\u001b[39;49mval_x,\n\u001b[1;32m   1608\u001b[0m     y\u001b[39m=\u001b[39;49mval_y,\n\u001b[1;32m   1609\u001b[0m     sample_weight\u001b[39m=\u001b[39;49mval_sample_weight,\n\u001b[1;32m   1610\u001b[0m     batch_size\u001b[39m=\u001b[39;49mvalidation_batch_size \u001b[39mor\u001b[39;49;00m batch_size,\n\u001b[1;32m   1611\u001b[0m     steps\u001b[39m=\u001b[39;49mvalidation_steps,\n\u001b[1;32m   1612\u001b[0m     callbacks\u001b[39m=\u001b[39;49mcallbacks,\n\u001b[1;32m   1613\u001b[0m     max_queue_size\u001b[39m=\u001b[39;49mmax_queue_size,\n\u001b[1;32m   1614\u001b[0m     workers\u001b[39m=\u001b[39;49mworkers,\n\u001b[1;32m   1615\u001b[0m     use_multiprocessing\u001b[39m=\u001b[39;49muse_multiprocessing,\n\u001b[1;32m   1616\u001b[0m     return_dict\u001b[39m=\u001b[39;49m\u001b[39mTrue\u001b[39;49;00m,\n\u001b[1;32m   1617\u001b[0m     _use_cached_eval_dataset\u001b[39m=\u001b[39;49m\u001b[39mTrue\u001b[39;49;00m,\n\u001b[1;32m   1618\u001b[0m )\n\u001b[1;32m   1619\u001b[0m val_logs \u001b[39m=\u001b[39m {\n\u001b[1;32m   1620\u001b[0m     \u001b[39m\"\u001b[39m\u001b[39mval_\u001b[39m\u001b[39m\"\u001b[39m \u001b[39m+\u001b[39m name: val \u001b[39mfor\u001b[39;00m name, val \u001b[39min\u001b[39;00m val_logs\u001b[39m.\u001b[39mitems()\n\u001b[1;32m   1621\u001b[0m }\n\u001b[1;32m   1622\u001b[0m epoch_logs\u001b[39m.\u001b[39mupdate(val_logs)\n",
      "File \u001b[0;32m~/.pyenv/versions/3.10.6/envs/cycling/lib/python3.10/site-packages/keras/utils/traceback_utils.py:65\u001b[0m, in \u001b[0;36mfilter_traceback.<locals>.error_handler\u001b[0;34m(*args, **kwargs)\u001b[0m\n\u001b[1;32m     63\u001b[0m filtered_tb \u001b[39m=\u001b[39m \u001b[39mNone\u001b[39;00m\n\u001b[1;32m     64\u001b[0m \u001b[39mtry\u001b[39;00m:\n\u001b[0;32m---> 65\u001b[0m     \u001b[39mreturn\u001b[39;00m fn(\u001b[39m*\u001b[39;49margs, \u001b[39m*\u001b[39;49m\u001b[39m*\u001b[39;49mkwargs)\n\u001b[1;32m     66\u001b[0m \u001b[39mexcept\u001b[39;00m \u001b[39mException\u001b[39;00m \u001b[39mas\u001b[39;00m e:\n\u001b[1;32m     67\u001b[0m     filtered_tb \u001b[39m=\u001b[39m _process_traceback_frames(e\u001b[39m.\u001b[39m__traceback__)\n",
      "File \u001b[0;32m~/.pyenv/versions/3.10.6/envs/cycling/lib/python3.10/site-packages/keras/engine/training.py:1947\u001b[0m, in \u001b[0;36mModel.evaluate\u001b[0;34m(self, x, y, batch_size, verbose, sample_weight, steps, callbacks, max_queue_size, workers, use_multiprocessing, return_dict, **kwargs)\u001b[0m\n\u001b[1;32m   1943\u001b[0m \u001b[39mwith\u001b[39;00m tf\u001b[39m.\u001b[39mprofiler\u001b[39m.\u001b[39mexperimental\u001b[39m.\u001b[39mTrace(\n\u001b[1;32m   1944\u001b[0m     \u001b[39m\"\u001b[39m\u001b[39mtest\u001b[39m\u001b[39m\"\u001b[39m, step_num\u001b[39m=\u001b[39mstep, _r\u001b[39m=\u001b[39m\u001b[39m1\u001b[39m\n\u001b[1;32m   1945\u001b[0m ):\n\u001b[1;32m   1946\u001b[0m     callbacks\u001b[39m.\u001b[39mon_test_batch_begin(step)\n\u001b[0;32m-> 1947\u001b[0m     tmp_logs \u001b[39m=\u001b[39m \u001b[39mself\u001b[39;49m\u001b[39m.\u001b[39;49mtest_function(iterator)\n\u001b[1;32m   1948\u001b[0m     \u001b[39mif\u001b[39;00m data_handler\u001b[39m.\u001b[39mshould_sync:\n\u001b[1;32m   1949\u001b[0m         context\u001b[39m.\u001b[39masync_wait()\n",
      "File \u001b[0;32m~/.pyenv/versions/3.10.6/envs/cycling/lib/python3.10/site-packages/tensorflow/python/util/traceback_utils.py:150\u001b[0m, in \u001b[0;36mfilter_traceback.<locals>.error_handler\u001b[0;34m(*args, **kwargs)\u001b[0m\n\u001b[1;32m    148\u001b[0m filtered_tb \u001b[39m=\u001b[39m \u001b[39mNone\u001b[39;00m\n\u001b[1;32m    149\u001b[0m \u001b[39mtry\u001b[39;00m:\n\u001b[0;32m--> 150\u001b[0m   \u001b[39mreturn\u001b[39;00m fn(\u001b[39m*\u001b[39;49margs, \u001b[39m*\u001b[39;49m\u001b[39m*\u001b[39;49mkwargs)\n\u001b[1;32m    151\u001b[0m \u001b[39mexcept\u001b[39;00m \u001b[39mException\u001b[39;00m \u001b[39mas\u001b[39;00m e:\n\u001b[1;32m    152\u001b[0m   filtered_tb \u001b[39m=\u001b[39m _process_traceback_frames(e\u001b[39m.\u001b[39m__traceback__)\n",
      "File \u001b[0;32m~/.pyenv/versions/3.10.6/envs/cycling/lib/python3.10/site-packages/tensorflow/python/eager/def_function.py:915\u001b[0m, in \u001b[0;36mFunction.__call__\u001b[0;34m(self, *args, **kwds)\u001b[0m\n\u001b[1;32m    912\u001b[0m compiler \u001b[39m=\u001b[39m \u001b[39m\"\u001b[39m\u001b[39mxla\u001b[39m\u001b[39m\"\u001b[39m \u001b[39mif\u001b[39;00m \u001b[39mself\u001b[39m\u001b[39m.\u001b[39m_jit_compile \u001b[39melse\u001b[39;00m \u001b[39m\"\u001b[39m\u001b[39mnonXla\u001b[39m\u001b[39m\"\u001b[39m\n\u001b[1;32m    914\u001b[0m \u001b[39mwith\u001b[39;00m OptionalXlaContext(\u001b[39mself\u001b[39m\u001b[39m.\u001b[39m_jit_compile):\n\u001b[0;32m--> 915\u001b[0m   result \u001b[39m=\u001b[39m \u001b[39mself\u001b[39;49m\u001b[39m.\u001b[39;49m_call(\u001b[39m*\u001b[39;49margs, \u001b[39m*\u001b[39;49m\u001b[39m*\u001b[39;49mkwds)\n\u001b[1;32m    917\u001b[0m new_tracing_count \u001b[39m=\u001b[39m \u001b[39mself\u001b[39m\u001b[39m.\u001b[39mexperimental_get_tracing_count()\n\u001b[1;32m    918\u001b[0m without_tracing \u001b[39m=\u001b[39m (tracing_count \u001b[39m==\u001b[39m new_tracing_count)\n",
      "File \u001b[0;32m~/.pyenv/versions/3.10.6/envs/cycling/lib/python3.10/site-packages/tensorflow/python/eager/def_function.py:954\u001b[0m, in \u001b[0;36mFunction._call\u001b[0;34m(self, *args, **kwds)\u001b[0m\n\u001b[1;32m    951\u001b[0m \u001b[39mself\u001b[39m\u001b[39m.\u001b[39m_lock\u001b[39m.\u001b[39mrelease()\n\u001b[1;32m    952\u001b[0m \u001b[39m# In this case we have not created variables on the first call. So we can\u001b[39;00m\n\u001b[1;32m    953\u001b[0m \u001b[39m# run the first trace but we should fail if variables are created.\u001b[39;00m\n\u001b[0;32m--> 954\u001b[0m results \u001b[39m=\u001b[39m \u001b[39mself\u001b[39;49m\u001b[39m.\u001b[39;49m_stateful_fn(\u001b[39m*\u001b[39;49margs, \u001b[39m*\u001b[39;49m\u001b[39m*\u001b[39;49mkwds)\n\u001b[1;32m    955\u001b[0m \u001b[39mif\u001b[39;00m \u001b[39mself\u001b[39m\u001b[39m.\u001b[39m_created_variables \u001b[39mand\u001b[39;00m \u001b[39mnot\u001b[39;00m ALLOW_DYNAMIC_VARIABLE_CREATION:\n\u001b[1;32m    956\u001b[0m   \u001b[39mraise\u001b[39;00m \u001b[39mValueError\u001b[39;00m(\u001b[39m\"\u001b[39m\u001b[39mCreating variables on a non-first call to a function\u001b[39m\u001b[39m\"\u001b[39m\n\u001b[1;32m    957\u001b[0m                    \u001b[39m\"\u001b[39m\u001b[39m decorated with tf.function.\u001b[39m\u001b[39m\"\u001b[39m)\n",
      "File \u001b[0;32m~/.pyenv/versions/3.10.6/envs/cycling/lib/python3.10/site-packages/tensorflow/python/eager/function.py:2496\u001b[0m, in \u001b[0;36mFunction.__call__\u001b[0;34m(self, *args, **kwargs)\u001b[0m\n\u001b[1;32m   2493\u001b[0m \u001b[39mwith\u001b[39;00m \u001b[39mself\u001b[39m\u001b[39m.\u001b[39m_lock:\n\u001b[1;32m   2494\u001b[0m   (graph_function,\n\u001b[1;32m   2495\u001b[0m    filtered_flat_args) \u001b[39m=\u001b[39m \u001b[39mself\u001b[39m\u001b[39m.\u001b[39m_maybe_define_function(args, kwargs)\n\u001b[0;32m-> 2496\u001b[0m \u001b[39mreturn\u001b[39;00m graph_function\u001b[39m.\u001b[39;49m_call_flat(\n\u001b[1;32m   2497\u001b[0m     filtered_flat_args, captured_inputs\u001b[39m=\u001b[39;49mgraph_function\u001b[39m.\u001b[39;49mcaptured_inputs)\n",
      "File \u001b[0;32m~/.pyenv/versions/3.10.6/envs/cycling/lib/python3.10/site-packages/tensorflow/python/eager/function.py:1862\u001b[0m, in \u001b[0;36mConcreteFunction._call_flat\u001b[0;34m(self, args, captured_inputs, cancellation_manager)\u001b[0m\n\u001b[1;32m   1858\u001b[0m possible_gradient_type \u001b[39m=\u001b[39m gradients_util\u001b[39m.\u001b[39mPossibleTapeGradientTypes(args)\n\u001b[1;32m   1859\u001b[0m \u001b[39mif\u001b[39;00m (possible_gradient_type \u001b[39m==\u001b[39m gradients_util\u001b[39m.\u001b[39mPOSSIBLE_GRADIENT_TYPES_NONE\n\u001b[1;32m   1860\u001b[0m     \u001b[39mand\u001b[39;00m executing_eagerly):\n\u001b[1;32m   1861\u001b[0m   \u001b[39m# No tape is watching; skip to running the function.\u001b[39;00m\n\u001b[0;32m-> 1862\u001b[0m   \u001b[39mreturn\u001b[39;00m \u001b[39mself\u001b[39m\u001b[39m.\u001b[39m_build_call_outputs(\u001b[39mself\u001b[39;49m\u001b[39m.\u001b[39;49m_inference_function\u001b[39m.\u001b[39;49mcall(\n\u001b[1;32m   1863\u001b[0m       ctx, args, cancellation_manager\u001b[39m=\u001b[39;49mcancellation_manager))\n\u001b[1;32m   1864\u001b[0m forward_backward \u001b[39m=\u001b[39m \u001b[39mself\u001b[39m\u001b[39m.\u001b[39m_select_forward_and_backward_functions(\n\u001b[1;32m   1865\u001b[0m     args,\n\u001b[1;32m   1866\u001b[0m     possible_gradient_type,\n\u001b[1;32m   1867\u001b[0m     executing_eagerly)\n\u001b[1;32m   1868\u001b[0m forward_function, args_with_tangents \u001b[39m=\u001b[39m forward_backward\u001b[39m.\u001b[39mforward()\n",
      "File \u001b[0;32m~/.pyenv/versions/3.10.6/envs/cycling/lib/python3.10/site-packages/tensorflow/python/eager/function.py:499\u001b[0m, in \u001b[0;36m_EagerDefinedFunction.call\u001b[0;34m(self, ctx, args, cancellation_manager)\u001b[0m\n\u001b[1;32m    497\u001b[0m \u001b[39mwith\u001b[39;00m _InterpolateFunctionError(\u001b[39mself\u001b[39m):\n\u001b[1;32m    498\u001b[0m   \u001b[39mif\u001b[39;00m cancellation_manager \u001b[39mis\u001b[39;00m \u001b[39mNone\u001b[39;00m:\n\u001b[0;32m--> 499\u001b[0m     outputs \u001b[39m=\u001b[39m execute\u001b[39m.\u001b[39;49mexecute(\n\u001b[1;32m    500\u001b[0m         \u001b[39mstr\u001b[39;49m(\u001b[39mself\u001b[39;49m\u001b[39m.\u001b[39;49msignature\u001b[39m.\u001b[39;49mname),\n\u001b[1;32m    501\u001b[0m         num_outputs\u001b[39m=\u001b[39;49m\u001b[39mself\u001b[39;49m\u001b[39m.\u001b[39;49m_num_outputs,\n\u001b[1;32m    502\u001b[0m         inputs\u001b[39m=\u001b[39;49margs,\n\u001b[1;32m    503\u001b[0m         attrs\u001b[39m=\u001b[39;49mattrs,\n\u001b[1;32m    504\u001b[0m         ctx\u001b[39m=\u001b[39;49mctx)\n\u001b[1;32m    505\u001b[0m   \u001b[39melse\u001b[39;00m:\n\u001b[1;32m    506\u001b[0m     outputs \u001b[39m=\u001b[39m execute\u001b[39m.\u001b[39mexecute_with_cancellation(\n\u001b[1;32m    507\u001b[0m         \u001b[39mstr\u001b[39m(\u001b[39mself\u001b[39m\u001b[39m.\u001b[39msignature\u001b[39m.\u001b[39mname),\n\u001b[1;32m    508\u001b[0m         num_outputs\u001b[39m=\u001b[39m\u001b[39mself\u001b[39m\u001b[39m.\u001b[39m_num_outputs,\n\u001b[0;32m   (...)\u001b[0m\n\u001b[1;32m    511\u001b[0m         ctx\u001b[39m=\u001b[39mctx,\n\u001b[1;32m    512\u001b[0m         cancellation_manager\u001b[39m=\u001b[39mcancellation_manager)\n",
      "File \u001b[0;32m~/.pyenv/versions/3.10.6/envs/cycling/lib/python3.10/site-packages/tensorflow/python/eager/execute.py:54\u001b[0m, in \u001b[0;36mquick_execute\u001b[0;34m(op_name, num_outputs, inputs, attrs, ctx, name)\u001b[0m\n\u001b[1;32m     52\u001b[0m \u001b[39mtry\u001b[39;00m:\n\u001b[1;32m     53\u001b[0m   ctx\u001b[39m.\u001b[39mensure_initialized()\n\u001b[0;32m---> 54\u001b[0m   tensors \u001b[39m=\u001b[39m pywrap_tfe\u001b[39m.\u001b[39;49mTFE_Py_Execute(ctx\u001b[39m.\u001b[39;49m_handle, device_name, op_name,\n\u001b[1;32m     55\u001b[0m                                       inputs, attrs, num_outputs)\n\u001b[1;32m     56\u001b[0m \u001b[39mexcept\u001b[39;00m core\u001b[39m.\u001b[39m_NotOkStatusException \u001b[39mas\u001b[39;00m e:\n\u001b[1;32m     57\u001b[0m   \u001b[39mif\u001b[39;00m name \u001b[39mis\u001b[39;00m \u001b[39mnot\u001b[39;00m \u001b[39mNone\u001b[39;00m:\n",
      "\u001b[0;31mKeyboardInterrupt\u001b[0m: "
     ]
    }
   ],
   "source": [
    "es = EarlyStopping(monitor=\"val_loss\",\n",
    "                       patience=3,\n",
    "                       restore_best_weights=True,\n",
    "                       verbose=0)\n",
    "\n",
    "\n",
    "num.fit(X_encoder_num_no_y_ls, y_encoder_num_ls, batch_size=16, epochs=1000, validation_split=0.2)"
   ]
  },
  {
   "attachments": {},
   "cell_type": "markdown",
   "metadata": {},
   "source": [
    "## Images"
   ]
  },
  {
   "cell_type": "code",
   "execution_count": 45,
   "metadata": {},
   "outputs": [],
   "source": [
    "from tensorflow.keras.applications.resnet50 import ResNet50\n",
    "\n",
    "def resnet_model(images, train_resnet=False):    \n",
    "    # $CHALLENGIFY_BEGIN\n",
    "    \n",
    "    model = ResNet50(weights=\"imagenet\", include_top=False, input_shape=images.shape[2:])\n",
    "    \n",
    "    if train_resnet == False:\n",
    "        model.trainable = False\n",
    "    \n",
    "    # $CHALLENGIFY_END\n",
    "    \n",
    "    return model  \n",
    "\n",
    "def image_model(images, output=True, resnet=True, train_resnet=False):\n",
    "    \n",
    "    if not resnet:\n",
    "        x = TimeDistributed(Rescaling(1./255, input_shape=(150,300,3)))(images)\n",
    "        x = TimeDistributed(Conv2D(16, kernel_size=10, activation='relu'))(x)\n",
    "        x = TimeDistributed(MaxPooling2D(3))(x)\n",
    "        x = TimeDistributed(Conv2D(32, kernel_size=10, activation='relu'))(x)\n",
    "        x = TimeDistributed(MaxPooling2D(3))(x)\n",
    "        x = TimeDistributed(Conv2D(16, kernel_size=8, activation='relu'))(x)\n",
    "        x = TimeDistributed(MaxPooling2D(3))(x)\n",
    "    \n",
    "    else:\n",
    "        resnet = resnet_model(images, train_resnet=train_resnet)\n",
    "        x = TimeDistributed(resnet)(images)\n",
    "        x = TimeDistributed(Flatten())(x)\n",
    "        \n",
    "    x = TimeDistributed(Dense(200, activation='tanh'))(x)\n",
    "    x = TimeDistributed(Dense(30, activation='tanh'))(x)\n",
    "    y = TimeDistributed(Dense(10, activation='tanh'))(x)\n",
    "    y = TimeDistributed(Dense(1, activation='linear'))(y)\n",
    "    \n",
    "    if output:\n",
    "        print(y)\n",
    "        return y\n",
    "    else:\n",
    "        return x"
   ]
  },
  {
   "cell_type": "code",
   "execution_count": 46,
   "metadata": {},
   "outputs": [
    {
     "data": {
      "text/plain": [
       "[150, 300, 3]"
      ]
     },
     "execution_count": 46,
     "metadata": {},
     "output_type": "execute_result"
    }
   ],
   "source": [
    "list(X_img_encoder_ls.shape[2:])"
   ]
  },
  {
   "cell_type": "code",
   "execution_count": 47,
   "metadata": {},
   "outputs": [
    {
     "name": "stdout",
     "output_type": "stream",
     "text": [
      "KerasTensor(type_spec=TensorSpec(shape=(None, 20, 1), dtype=tf.float32, name=None), name='time_distributed_47/Reshape_1:0', description=\"created by layer 'time_distributed_47'\")\n",
      "(None, 20, 150, 300, 3)\n",
      "(None, 20, 1)\n"
     ]
    }
   ],
   "source": [
    "img_features = Input(shape=tuple(X_img_encoder_ls.shape[1:]))\n",
    "\n",
    "img_encoder_outputs = image_model(img_features)\n",
    "\n",
    "print(img_features.shape)\n",
    "print(img_encoder_outputs.shape)\n",
    "\n",
    "img = Model(img_features, img_encoder_outputs)\n",
    "\n",
    "img.compile(loss='mse', optimizer=Adam(), metrics='mae')"
   ]
  },
  {
   "cell_type": "code",
   "execution_count": 48,
   "metadata": {},
   "outputs": [],
   "source": [
    "\n",
    "initial_learning_rate = 0.001\n",
    "\n",
    "lr_schedule = ExponentialDecay(initial_learning_rate, decay_steps=1000, decay_rate=0.05)\n",
    "\n",
    "adam = Adam(learning_rate=lr_schedule)\n",
    "\n",
    "img.compile(loss='mae', optimizer=adam, metrics='mae')"
   ]
  },
  {
   "cell_type": "code",
   "execution_count": 49,
   "metadata": {},
   "outputs": [
    {
     "name": "stdout",
     "output_type": "stream",
     "text": [
      "Model: \"model_7\"\n",
      "_________________________________________________________________\n",
      " Layer (type)                Output Shape              Param #   \n",
      "=================================================================\n",
      " input_22 (InputLayer)       [(None, 20, 150, 300, 3)  0         \n",
      "                             ]                                   \n",
      "                                                                 \n",
      " time_distributed_42 (TimeDi  (None, 20, 5, 10, 2048)  23587712  \n",
      " stributed)                                                      \n",
      "                                                                 \n",
      " time_distributed_43 (TimeDi  (None, 20, 102400)       0         \n",
      " stributed)                                                      \n",
      "                                                                 \n",
      " time_distributed_44 (TimeDi  (None, 20, 200)          20480200  \n",
      " stributed)                                                      \n",
      "                                                                 \n",
      " time_distributed_45 (TimeDi  (None, 20, 30)           6030      \n",
      " stributed)                                                      \n",
      "                                                                 \n",
      " time_distributed_46 (TimeDi  (None, 20, 10)           310       \n",
      " stributed)                                                      \n",
      "                                                                 \n",
      " time_distributed_47 (TimeDi  (None, 20, 1)            11        \n",
      " stributed)                                                      \n",
      "                                                                 \n",
      "=================================================================\n",
      "Total params: 44,074,263\n",
      "Trainable params: 20,486,551\n",
      "Non-trainable params: 23,587,712\n",
      "_________________________________________________________________\n"
     ]
    }
   ],
   "source": [
    "img.summary()"
   ]
  },
  {
   "cell_type": "code",
   "execution_count": 50,
   "metadata": {},
   "outputs": [
    {
     "name": "stdout",
     "output_type": "stream",
     "text": [
      "Epoch 1/1000\n",
      "24/52 [============>.................] - ETA: 1:26 - loss: 5.1597 - mae: 5.1597"
     ]
    }
   ],
   "source": [
    "es = EarlyStopping(monitor=\"val_loss\",\n",
    "                       patience=3,\n",
    "                       restore_best_weights=True,\n",
    "                       verbose=0)\n",
    "\n",
    "\n",
    "img.fit(X_img_encoder_ls, y_img_encoder_ls, batch_size=8, epochs=1000, validation_split=0.2)"
   ]
  },
  {
   "cell_type": "code",
   "execution_count": null,
   "metadata": {},
   "outputs": [],
   "source": []
  }
 ],
 "metadata": {
  "kernelspec": {
   "display_name": "cycling",
   "language": "python",
   "name": "python3"
  },
  "language_info": {
   "codemirror_mode": {
    "name": "ipython",
    "version": 3
   },
   "file_extension": ".py",
   "mimetype": "text/x-python",
   "name": "python",
   "nbconvert_exporter": "python",
   "pygments_lexer": "ipython3",
   "version": "3.10.6"
  },
  "orig_nbformat": 4,
  "vscode": {
   "interpreter": {
    "hash": "8ca951d3d600fdeda50107b74045477811d1e32ce56279a22e6e41512d9b0d64"
   }
  }
 },
 "nbformat": 4,
 "nbformat_minor": 2
}
