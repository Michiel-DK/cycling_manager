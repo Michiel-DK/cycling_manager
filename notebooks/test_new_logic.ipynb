{
 "cells": [
  {
   "cell_type": "code",
   "execution_count": 81,
   "metadata": {},
   "outputs": [],
   "source": [
    "from cycling_manager.preprocess import get_data, preprocess, split\n",
    "from cycling_manager.new_sequences import get_num_sequence, get_images, get_full_sequence"
   ]
  },
  {
   "cell_type": "code",
   "execution_count": 76,
   "metadata": {},
   "outputs": [
    {
     "name": "stdout",
     "output_type": "stream",
     "text": [
      "\u001b[38;5;2mfull df shape (603619, 25)\u001b[0m\n",
      "\u001b[38;5;2mfull df shape (603619, 25)\u001b[0m\n",
      "\u001b[38;5;3mScore vertical meters - model: DecisionTreeRegressor() score: 0.9995680099389864\u001b[0m\n",
      "\u001b[38;5;3mScore vertical meters - model: DecisionTreeRegressor() score: 0.9999317297613699\u001b[0m\n",
      "\u001b[38;5;3mScore vertical meters - model: KNeighborsClassifier() score: 0.9941044211660606\u001b[0m\n"
     ]
    }
   ],
   "source": [
    "df = preprocess(get_data())"
   ]
  },
  {
   "cell_type": "code",
   "execution_count": 89,
   "metadata": {},
   "outputs": [
    {
     "data": {
      "text/html": [
       "<div>\n",
       "<style scoped>\n",
       "    .dataframe tbody tr th:only-of-type {\n",
       "        vertical-align: middle;\n",
       "    }\n",
       "\n",
       "    .dataframe tbody tr th {\n",
       "        vertical-align: top;\n",
       "    }\n",
       "\n",
       "    .dataframe thead th {\n",
       "        text-align: right;\n",
       "    }\n",
       "</style>\n",
       "<table border=\"1\" class=\"dataframe\">\n",
       "  <thead>\n",
       "    <tr style=\"text-align: right;\">\n",
       "      <th></th>\n",
       "      <th>name</th>\n",
       "      <th>year</th>\n",
       "      <th>race_name</th>\n",
       "    </tr>\n",
       "  </thead>\n",
       "  <tbody>\n",
       "    <tr>\n",
       "      <th>0</th>\n",
       "      <td>tadej-pogacar</td>\n",
       "      <td>2021</td>\n",
       "      <td>tour-de-france</td>\n",
       "    </tr>\n",
       "    <tr>\n",
       "      <th>369</th>\n",
       "      <td>sepp-kuss</td>\n",
       "      <td>2021</td>\n",
       "      <td>vuelta-a-espana</td>\n",
       "    </tr>\n",
       "    <tr>\n",
       "      <th>363</th>\n",
       "      <td>mikel-landa</td>\n",
       "      <td>2021</td>\n",
       "      <td>giro-d-italia</td>\n",
       "    </tr>\n",
       "    <tr>\n",
       "      <th>364</th>\n",
       "      <td>krists-neilands</td>\n",
       "      <td>2021</td>\n",
       "      <td>giro-d-italia</td>\n",
       "    </tr>\n",
       "    <tr>\n",
       "      <th>365</th>\n",
       "      <td>rafal-majka</td>\n",
       "      <td>2021</td>\n",
       "      <td>vuelta-a-espana</td>\n",
       "    </tr>\n",
       "  </tbody>\n",
       "</table>\n",
       "</div>"
      ],
      "text/plain": [
       "                name  year        race_name\n",
       "0      tadej-pogacar  2021   tour-de-france\n",
       "369        sepp-kuss  2021  vuelta-a-espana\n",
       "363      mikel-landa  2021    giro-d-italia\n",
       "364  krists-neilands  2021    giro-d-italia\n",
       "365      rafal-majka  2021  vuelta-a-espana"
      ]
     },
     "execution_count": 89,
     "metadata": {},
     "output_type": "execute_result"
    }
   ],
   "source": [
    "train, test = split(df, 2021, 2022)\n",
    "train.head()"
   ]
  },
  {
   "cell_type": "code",
   "execution_count": 90,
   "metadata": {},
   "outputs": [],
   "source": [
    "X_decoder_num, y_decoder, X_encoder_num_no_y, y_encoder_num, X_decoder_img_ls, X_encoder_img_ls, y_encoder_img_ls=\\\n",
    "    get_num_sequence(df, 'magnus-cort-nielsen', 2021, \"tour-de-france\", 40, 30, img=True, binary=True, y_encoder=True)"
   ]
  },
  {
   "cell_type": "code",
   "execution_count": 91,
   "metadata": {},
   "outputs": [
    {
     "data": {
      "text/plain": [
       "(TensorShape([21, 5]),\n",
       " TensorShape([21, 1]),\n",
       " TensorShape([40, 14]),\n",
       " TensorShape([40, 1]))"
      ]
     },
     "execution_count": 91,
     "metadata": {},
     "output_type": "execute_result"
    }
   ],
   "source": [
    "X_decoder_num.shape, y_decoder.shape, X_encoder_num_no_y.shape, y_encoder_num.shape"
   ]
  },
  {
   "cell_type": "code",
   "execution_count": 112,
   "metadata": {},
   "outputs": [],
   "source": [
    "X_encoder_img, X_decoder_img, y_encoder_img, to_drop_ls = get_images(X_decoder_img_ls, X_encoder_img_ls, y_encoder_img_ls, resnet=False)"
   ]
  },
  {
   "cell_type": "code",
   "execution_count": 114,
   "metadata": {},
   "outputs": [
    {
     "data": {
      "text/plain": [
       "10"
      ]
     },
     "execution_count": 114,
     "metadata": {},
     "output_type": "execute_result"
    }
   ],
   "source": [
    "len(X_encoder_img)"
   ]
  },
  {
   "cell_type": "code",
   "execution_count": 116,
   "metadata": {},
   "outputs": [
    {
     "name": "stdout",
     "output_type": "stream",
     "text": [
      "\u001b[31m\n",
      " passed for ('krists-neilands', 2021, 'giro-d-italia') due to nan\u001b[0m\n",
      "\u001b[31m\n",
      " passed for ('manuel-belletti', 2021, 'giro-d-italia') due to nan\u001b[0m\n"
     ]
    },
    {
     "name": "stderr",
     "output_type": "stream",
     "text": [
      "[ WARN:0@6991.586] global /Users/xperience/actions-runner/_work/opencv-python/opencv-python/opencv/modules/imgcodecs/src/loadsave.cpp (239) findDecoder imread_('../raw_data/img_300/czech-cycling-tour_2021_stage-2.jpg'): can't open/read file: check file path/integrity\n",
      "[ WARN:0@6991.586] global /Users/xperience/actions-runner/_work/opencv-python/opencv-python/opencv/modules/imgcodecs/src/loadsave.cpp (239) findDecoder imread_('../raw_data/img_300/czech-cycling-tour_2021_stage-3.jpg'): can't open/read file: check file path/integrity\n",
      "[ WARN:0@6991.891] global /Users/xperience/actions-runner/_work/opencv-python/opencv-python/opencv/modules/imgcodecs/src/loadsave.cpp (239) findDecoder imread_('../raw_data/img_300/czech-cycling-tour_2020_stage-4.jpg'): can't open/read file: check file path/integrity\n",
      "[ WARN:0@6992.032] global /Users/xperience/actions-runner/_work/opencv-python/opencv-python/opencv/modules/imgcodecs/src/loadsave.cpp (239) findDecoder imread_('../raw_data/img_300/czech-cycling-tour_2021_stage-2.jpg'): can't open/read file: check file path/integrity\n",
      "[ WARN:0@6992.032] global /Users/xperience/actions-runner/_work/opencv-python/opencv-python/opencv/modules/imgcodecs/src/loadsave.cpp (239) findDecoder imread_('../raw_data/img_300/czech-cycling-tour_2021_stage-3.jpg'): can't open/read file: check file path/integrity\n",
      "[ WARN:0@6992.032] global /Users/xperience/actions-runner/_work/opencv-python/opencv-python/opencv/modules/imgcodecs/src/loadsave.cpp (239) findDecoder imread_('../raw_data/img_300/czech-cycling-tour_2021_stage-4.jpg'): can't open/read file: check file path/integrity\n",
      "[ WARN:0@6992.101] global /Users/xperience/actions-runner/_work/opencv-python/opencv-python/opencv/modules/imgcodecs/src/loadsave.cpp (239) findDecoder imread_('../raw_data/img_300/czech-cycling-tour_2021_stage-2.jpg'): can't open/read file: check file path/integrity\n",
      "[ WARN:0@6992.101] global /Users/xperience/actions-runner/_work/opencv-python/opencv-python/opencv/modules/imgcodecs/src/loadsave.cpp (239) findDecoder imread_('../raw_data/img_300/czech-cycling-tour_2021_stage-3.jpg'): can't open/read file: check file path/integrity\n",
      "[ WARN:0@6992.101] global /Users/xperience/actions-runner/_work/opencv-python/opencv-python/opencv/modules/imgcodecs/src/loadsave.cpp (239) findDecoder imread_('../raw_data/img_300/czech-cycling-tour_2021_stage-4.jpg'): can't open/read file: check file path/integrity\n",
      "[ WARN:0@6992.312] global /Users/xperience/actions-runner/_work/opencv-python/opencv-python/opencv/modules/imgcodecs/src/loadsave.cpp (239) findDecoder imread_('../raw_data/img_300/czech-cycling-tour_2021_stage-2.jpg'): can't open/read file: check file path/integrity\n",
      "[ WARN:0@6992.312] global /Users/xperience/actions-runner/_work/opencv-python/opencv-python/opencv/modules/imgcodecs/src/loadsave.cpp (239) findDecoder imread_('../raw_data/img_300/czech-cycling-tour_2021_stage-3.jpg'): can't open/read file: check file path/integrity\n",
      "[ WARN:0@6992.312] global /Users/xperience/actions-runner/_work/opencv-python/opencv-python/opencv/modules/imgcodecs/src/loadsave.cpp (239) findDecoder imread_('../raw_data/img_300/czech-cycling-tour_2021_stage-4.jpg'): can't open/read file: check file path/integrity\n",
      "[ WARN:0@6992.758] global /Users/xperience/actions-runner/_work/opencv-python/opencv-python/opencv/modules/imgcodecs/src/loadsave.cpp (239) findDecoder imread_('../raw_data/img_300/czech-cycling-tour_2020_stage-4.jpg'): can't open/read file: check file path/integrity\n",
      "[ WARN:0@6993.865] global /Users/xperience/actions-runner/_work/opencv-python/opencv-python/opencv/modules/imgcodecs/src/loadsave.cpp (239) findDecoder imread_('../raw_data/img_300/nc-australia_2021_result.jpg'): can't open/read file: check file path/integrity\n",
      "[ WARN:0@6995.450] global /Users/xperience/actions-runner/_work/opencv-python/opencv-python/opencv/modules/imgcodecs/src/loadsave.cpp (239) findDecoder imread_('../raw_data/img_300/czech-cycling-tour_2020_stage-4.jpg'): can't open/read file: check file path/integrity\n"
     ]
    },
    {
     "name": "stdout",
     "output_type": "stream",
     "text": [
      "\u001b[31m\n",
      " passed for ('jacopo-mosca', 2021, 'giro-d-italia') due to nan\u001b[0m\n"
     ]
    },
    {
     "name": "stderr",
     "output_type": "stream",
     "text": [
      "[ WARN:0@7000.453] global /Users/xperience/actions-runner/_work/opencv-python/opencv-python/opencv/modules/imgcodecs/src/loadsave.cpp (239) findDecoder imread_('../raw_data/img_300/czech-cycling-tour_2020_stage-4.jpg'): can't open/read file: check file path/integrity\n",
      "[ WARN:0@7000.810] global /Users/xperience/actions-runner/_work/opencv-python/opencv-python/opencv/modules/imgcodecs/src/loadsave.cpp (239) findDecoder imread_('../raw_data/img_300/czech-cycling-tour_2020_stage-4.jpg'): can't open/read file: check file path/integrity\n",
      "[ WARN:0@7006.058] global /Users/xperience/actions-runner/_work/opencv-python/opencv-python/opencv/modules/imgcodecs/src/loadsave.cpp (239) findDecoder imread_('../raw_data/img_300/nc-australia_2021_result.jpg'): can't open/read file: check file path/integrity\n",
      "[ WARN:0@7013.146] global /Users/xperience/actions-runner/_work/opencv-python/opencv-python/opencv/modules/imgcodecs/src/loadsave.cpp (239) findDecoder imread_('../raw_data/img_300/nc-australia_2021_result.jpg'): can't open/read file: check file path/integrity\n",
      "[ WARN:0@7018.817] global /Users/xperience/actions-runner/_work/opencv-python/opencv-python/opencv/modules/imgcodecs/src/loadsave.cpp (239) findDecoder imread_('../raw_data/img_300/czech-cycling-tour_2020_stage-4.jpg'): can't open/read file: check file path/integrity\n"
     ]
    },
    {
     "name": "stdout",
     "output_type": "stream",
     "text": [
      "\u001b[31m\n",
      " passed for ('francesco-gavazzi', 2021, 'giro-d-italia') due to nan\u001b[0m\n"
     ]
    },
    {
     "name": "stderr",
     "output_type": "stream",
     "text": [
      "[ WARN:0@7024.729] global /Users/xperience/actions-runner/_work/opencv-python/opencv-python/opencv/modules/imgcodecs/src/loadsave.cpp (239) findDecoder imread_('../raw_data/img_300/czech-cycling-tour_2019_stage-4.jpg'): can't open/read file: check file path/integrity\n"
     ]
    },
    {
     "name": "stdout",
     "output_type": "stream",
     "text": [
      "(519, 21, 5) (519, 21, 1) (519, 40, 14) (519, 40, 1) (519, 21, 150, 300, 3) (519, 20, 150, 300, 3) (519, 20)\n"
     ]
    }
   ],
   "source": [
    "X_decoder_num_ls, y_decoder_ls, X_encoder_num_no_y_ls, y_encoder_num_ls, X_img_decoder_ls, X_img_encoder_ls, y_img_encoder_ls =\\\n",
    "    get_full_sequence(df, train, maxlen_num=40, maxlen_img=20, img=True, binary=True, y_encoder = True, num_cap=9999, img_cap=20, resnet=False)"
   ]
  },
  {
   "cell_type": "code",
   "execution_count": 117,
   "metadata": {},
   "outputs": [
    {
     "name": "stdout",
     "output_type": "stream",
     "text": [
      "\u001b[31m\n",
      " passed for ('krists-neilands', 2021, 'giro-d-italia') due to nan\u001b[0m\n",
      "\u001b[31m\n",
      " passed for ('manuel-belletti', 2021, 'giro-d-italia') due to nan\u001b[0m\n"
     ]
    },
    {
     "name": "stderr",
     "output_type": "stream",
     "text": [
      "[ WARN:0@7036.272] global /Users/xperience/actions-runner/_work/opencv-python/opencv-python/opencv/modules/imgcodecs/src/loadsave.cpp (239) findDecoder imread_('../raw_data/img_300/czech-cycling-tour_2021_stage-2.jpg'): can't open/read file: check file path/integrity\n",
      "[ WARN:0@7036.272] global /Users/xperience/actions-runner/_work/opencv-python/opencv-python/opencv/modules/imgcodecs/src/loadsave.cpp (239) findDecoder imread_('../raw_data/img_300/czech-cycling-tour_2021_stage-3.jpg'): can't open/read file: check file path/integrity\n",
      "[ WARN:0@7036.570] global /Users/xperience/actions-runner/_work/opencv-python/opencv-python/opencv/modules/imgcodecs/src/loadsave.cpp (239) findDecoder imread_('../raw_data/img_300/czech-cycling-tour_2020_stage-4.jpg'): can't open/read file: check file path/integrity\n",
      "[ WARN:0@7036.719] global /Users/xperience/actions-runner/_work/opencv-python/opencv-python/opencv/modules/imgcodecs/src/loadsave.cpp (239) findDecoder imread_('../raw_data/img_300/czech-cycling-tour_2021_stage-2.jpg'): can't open/read file: check file path/integrity\n",
      "[ WARN:0@7036.719] global /Users/xperience/actions-runner/_work/opencv-python/opencv-python/opencv/modules/imgcodecs/src/loadsave.cpp (239) findDecoder imread_('../raw_data/img_300/czech-cycling-tour_2021_stage-3.jpg'): can't open/read file: check file path/integrity\n",
      "[ WARN:0@7036.720] global /Users/xperience/actions-runner/_work/opencv-python/opencv-python/opencv/modules/imgcodecs/src/loadsave.cpp (239) findDecoder imread_('../raw_data/img_300/czech-cycling-tour_2021_stage-4.jpg'): can't open/read file: check file path/integrity\n",
      "[ WARN:0@7036.793] global /Users/xperience/actions-runner/_work/opencv-python/opencv-python/opencv/modules/imgcodecs/src/loadsave.cpp (239) findDecoder imread_('../raw_data/img_300/czech-cycling-tour_2021_stage-2.jpg'): can't open/read file: check file path/integrity\n",
      "[ WARN:0@7036.793] global /Users/xperience/actions-runner/_work/opencv-python/opencv-python/opencv/modules/imgcodecs/src/loadsave.cpp (239) findDecoder imread_('../raw_data/img_300/czech-cycling-tour_2021_stage-3.jpg'): can't open/read file: check file path/integrity\n",
      "[ WARN:0@7036.793] global /Users/xperience/actions-runner/_work/opencv-python/opencv-python/opencv/modules/imgcodecs/src/loadsave.cpp (239) findDecoder imread_('../raw_data/img_300/czech-cycling-tour_2021_stage-4.jpg'): can't open/read file: check file path/integrity\n",
      "[ WARN:0@7037.005] global /Users/xperience/actions-runner/_work/opencv-python/opencv-python/opencv/modules/imgcodecs/src/loadsave.cpp (239) findDecoder imread_('../raw_data/img_300/czech-cycling-tour_2021_stage-2.jpg'): can't open/read file: check file path/integrity\n",
      "[ WARN:0@7037.006] global /Users/xperience/actions-runner/_work/opencv-python/opencv-python/opencv/modules/imgcodecs/src/loadsave.cpp (239) findDecoder imread_('../raw_data/img_300/czech-cycling-tour_2021_stage-3.jpg'): can't open/read file: check file path/integrity\n",
      "[ WARN:0@7037.006] global /Users/xperience/actions-runner/_work/opencv-python/opencv-python/opencv/modules/imgcodecs/src/loadsave.cpp (239) findDecoder imread_('../raw_data/img_300/czech-cycling-tour_2021_stage-4.jpg'): can't open/read file: check file path/integrity\n",
      "[ WARN:0@7037.451] global /Users/xperience/actions-runner/_work/opencv-python/opencv-python/opencv/modules/imgcodecs/src/loadsave.cpp (239) findDecoder imread_('../raw_data/img_300/czech-cycling-tour_2020_stage-4.jpg'): can't open/read file: check file path/integrity\n",
      "[ WARN:0@7038.544] global /Users/xperience/actions-runner/_work/opencv-python/opencv-python/opencv/modules/imgcodecs/src/loadsave.cpp (239) findDecoder imread_('../raw_data/img_300/nc-australia_2021_result.jpg'): can't open/read file: check file path/integrity\n",
      "[ WARN:0@7040.099] global /Users/xperience/actions-runner/_work/opencv-python/opencv-python/opencv/modules/imgcodecs/src/loadsave.cpp (239) findDecoder imread_('../raw_data/img_300/czech-cycling-tour_2020_stage-4.jpg'): can't open/read file: check file path/integrity\n"
     ]
    },
    {
     "name": "stdout",
     "output_type": "stream",
     "text": [
      "\u001b[31m\n",
      " passed for ('jacopo-mosca', 2021, 'giro-d-italia') due to nan\u001b[0m\n"
     ]
    },
    {
     "name": "stderr",
     "output_type": "stream",
     "text": [
      "[ WARN:0@7044.966] global /Users/xperience/actions-runner/_work/opencv-python/opencv-python/opencv/modules/imgcodecs/src/loadsave.cpp (239) findDecoder imread_('../raw_data/img_300/czech-cycling-tour_2020_stage-4.jpg'): can't open/read file: check file path/integrity\n",
      "[ WARN:0@7045.317] global /Users/xperience/actions-runner/_work/opencv-python/opencv-python/opencv/modules/imgcodecs/src/loadsave.cpp (239) findDecoder imread_('../raw_data/img_300/czech-cycling-tour_2020_stage-4.jpg'): can't open/read file: check file path/integrity\n",
      "[ WARN:0@7050.485] global /Users/xperience/actions-runner/_work/opencv-python/opencv-python/opencv/modules/imgcodecs/src/loadsave.cpp (239) findDecoder imread_('../raw_data/img_300/nc-australia_2021_result.jpg'): can't open/read file: check file path/integrity\n",
      "[ WARN:0@7057.491] global /Users/xperience/actions-runner/_work/opencv-python/opencv-python/opencv/modules/imgcodecs/src/loadsave.cpp (239) findDecoder imread_('../raw_data/img_300/nc-australia_2021_result.jpg'): can't open/read file: check file path/integrity\n",
      "[ WARN:0@7063.291] global /Users/xperience/actions-runner/_work/opencv-python/opencv-python/opencv/modules/imgcodecs/src/loadsave.cpp (239) findDecoder imread_('../raw_data/img_300/czech-cycling-tour_2020_stage-4.jpg'): can't open/read file: check file path/integrity\n"
     ]
    },
    {
     "name": "stdout",
     "output_type": "stream",
     "text": [
      "\u001b[31m\n",
      " passed for ('francesco-gavazzi', 2021, 'giro-d-italia') due to nan\u001b[0m\n"
     ]
    },
    {
     "name": "stderr",
     "output_type": "stream",
     "text": [
      "[ WARN:0@7069.231] global /Users/xperience/actions-runner/_work/opencv-python/opencv-python/opencv/modules/imgcodecs/src/loadsave.cpp (239) findDecoder imread_('../raw_data/img_300/czech-cycling-tour_2019_stage-4.jpg'): can't open/read file: check file path/integrity\n"
     ]
    },
    {
     "name": "stdout",
     "output_type": "stream",
     "text": [
      "(519, 21, 5) (519, 21, 1) (519, 40, 14) (519, 40, 1) (519, 21, 150, 300, 3) (519, 20, 150, 300, 3) (519, 20)\n"
     ]
    }
   ],
   "source": [
    "X_decoder_num_ls, y_decoder_ls, X_encoder_num_no_y_ls, y_encoder_num_ls, X_img_decoder_ls, X_img_encoder_ls, y_img_encoder_ls =\\\n",
    "    get_full_sequence(df, train, maxlen_num=40, maxlen_img=20, img=True, binary=True, y_encoder = True, num_cap=9999, img_cap=20, resnet=True)"
   ]
  },
  {
   "cell_type": "code",
   "execution_count": null,
   "metadata": {},
   "outputs": [],
   "source": []
  }
 ],
 "metadata": {
  "kernelspec": {
   "display_name": "cycling",
   "language": "python",
   "name": "python3"
  },
  "language_info": {
   "codemirror_mode": {
    "name": "ipython",
    "version": 3
   },
   "file_extension": ".py",
   "mimetype": "text/x-python",
   "name": "python",
   "nbconvert_exporter": "python",
   "pygments_lexer": "ipython3",
   "version": "3.10.6"
  },
  "orig_nbformat": 4,
  "vscode": {
   "interpreter": {
    "hash": "8ca951d3d600fdeda50107b74045477811d1e32ce56279a22e6e41512d9b0d64"
   }
  }
 },
 "nbformat": 4,
 "nbformat_minor": 2
}
