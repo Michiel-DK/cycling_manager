{
 "cells": [
  {
   "cell_type": "code",
   "execution_count": 1,
   "metadata": {},
   "outputs": [],
   "source": [
    "from cycling_manager.preprocess import get_data, preprocess, split\n",
    "from cycling_manager.new_sequences import get_full_sequence, get_images"
   ]
  },
  {
   "cell_type": "code",
   "execution_count": 2,
   "metadata": {},
   "outputs": [
    {
     "name": "stdout",
     "output_type": "stream",
     "text": [
      "\u001b[38;5;2mfull df shape (603619, 25)\u001b[0m\n",
      "\u001b[38;5;2mfull df shape (603619, 25)\u001b[0m\n",
      "\u001b[38;5;3mScore vertical meters - model: DecisionTreeRegressor() score: 0.9995662844000273\u001b[0m\n",
      "\u001b[38;5;3mScore vertical meters - model: DecisionTreeRegressor() score: 0.9999208844300826\u001b[0m\n",
      "\u001b[38;5;3mScore vertical meters - model: KNeighborsClassifier() score: 0.9935552723467305\u001b[0m\n"
     ]
    }
   ],
   "source": [
    "df = preprocess(get_data())"
   ]
  },
  {
   "cell_type": "code",
   "execution_count": 3,
   "metadata": {},
   "outputs": [
    {
     "data": {
      "text/html": [
       "<div>\n",
       "<style scoped>\n",
       "    .dataframe tbody tr th:only-of-type {\n",
       "        vertical-align: middle;\n",
       "    }\n",
       "\n",
       "    .dataframe tbody tr th {\n",
       "        vertical-align: top;\n",
       "    }\n",
       "\n",
       "    .dataframe thead th {\n",
       "        text-align: right;\n",
       "    }\n",
       "</style>\n",
       "<table border=\"1\" class=\"dataframe\">\n",
       "  <thead>\n",
       "    <tr style=\"text-align: right;\">\n",
       "      <th></th>\n",
       "      <th>name</th>\n",
       "      <th>year</th>\n",
       "      <th>race_name</th>\n",
       "    </tr>\n",
       "  </thead>\n",
       "  <tbody>\n",
       "    <tr>\n",
       "      <th>472</th>\n",
       "      <td>magnus-cort-nielsen</td>\n",
       "      <td>2021</td>\n",
       "      <td>tour-de-france</td>\n",
       "    </tr>\n",
       "    <tr>\n",
       "      <th>634</th>\n",
       "      <td>maciej-bodnar</td>\n",
       "      <td>2021</td>\n",
       "      <td>giro-d-italia</td>\n",
       "    </tr>\n",
       "    <tr>\n",
       "      <th>622</th>\n",
       "      <td>jan-tratnik</td>\n",
       "      <td>2021</td>\n",
       "      <td>giro-d-italia</td>\n",
       "    </tr>\n",
       "    <tr>\n",
       "      <th>623</th>\n",
       "      <td>rafael-valls</td>\n",
       "      <td>2021</td>\n",
       "      <td>giro-d-italia</td>\n",
       "    </tr>\n",
       "    <tr>\n",
       "      <th>624</th>\n",
       "      <td>giovanni-visconti</td>\n",
       "      <td>2021</td>\n",
       "      <td>giro-d-italia</td>\n",
       "    </tr>\n",
       "  </tbody>\n",
       "</table>\n",
       "</div>"
      ],
      "text/plain": [
       "                    name  year       race_name\n",
       "472  magnus-cort-nielsen  2021  tour-de-france\n",
       "634        maciej-bodnar  2021   giro-d-italia\n",
       "622          jan-tratnik  2021   giro-d-italia\n",
       "623         rafael-valls  2021   giro-d-italia\n",
       "624    giovanni-visconti  2021   giro-d-italia"
      ]
     },
     "execution_count": 3,
     "metadata": {},
     "output_type": "execute_result"
    }
   ],
   "source": [
    "train, test = split(df, 2020, 2022)\n",
    "train.head()"
   ]
  },
  {
   "cell_type": "code",
   "execution_count": 70,
   "metadata": {},
   "outputs": [],
   "source": [
    "X_decoder_num, y_decoder, X_encoder_num_no_y, y_encoder_num, X_decoder_img_ls, X_encoder_img_ls, y_encoder_img_ls=\\\n",
    "    get_full_sequence(df, 'magnus-cort-nielsen', 2021, \"tour-de-france\", 40, 30, img=True, binary=True, y_encoder=True)"
   ]
  },
  {
   "cell_type": "code",
   "execution_count": 72,
   "metadata": {},
   "outputs": [
    {
     "data": {
      "text/plain": [
       "(TensorShape([21, 5]),\n",
       " TensorShape([21, 1]),\n",
       " TensorShape([40, 14]),\n",
       " TensorShape([40, 1]))"
      ]
     },
     "execution_count": 72,
     "metadata": {},
     "output_type": "execute_result"
    }
   ],
   "source": [
    "X_decoder_num.shape, y_decoder.shape, X_encoder_num_no_y.shape, y_encoder_num.shape"
   ]
  },
  {
   "cell_type": "code",
   "execution_count": 53,
   "metadata": {},
   "outputs": [],
   "source": [
    "X_encoder_img, X_decoder_img, y_encoder_img, to_drop_ls = get_images(X_decoder_img_ls, X_encoder_img_ls, y_encoder_img_ls, resnet=True)"
   ]
  },
  {
   "cell_type": "code",
   "execution_count": null,
   "metadata": {},
   "outputs": [],
   "source": []
  }
 ],
 "metadata": {
  "kernelspec": {
   "display_name": "cycling",
   "language": "python",
   "name": "python3"
  },
  "language_info": {
   "codemirror_mode": {
    "name": "ipython",
    "version": 3
   },
   "file_extension": ".py",
   "mimetype": "text/x-python",
   "name": "python",
   "nbconvert_exporter": "python",
   "pygments_lexer": "ipython3",
   "version": "3.10.6"
  },
  "orig_nbformat": 4,
  "vscode": {
   "interpreter": {
    "hash": "8ca951d3d600fdeda50107b74045477811d1e32ce56279a22e6e41512d9b0d64"
   }
  }
 },
 "nbformat": 4,
 "nbformat_minor": 2
}
