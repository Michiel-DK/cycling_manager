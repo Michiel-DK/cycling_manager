{
 "cells": [
  {
   "cell_type": "code",
   "execution_count": 34,
   "metadata": {},
   "outputs": [],
   "source": [
    "import pandas as pd\n",
    "import numpy as np"
   ]
  },
  {
   "cell_type": "code",
   "execution_count": 35,
   "metadata": {},
   "outputs": [],
   "source": [
    "from cycling_manager.sequences import *\n",
    "from cycling_manager.preprocess import *\n",
    "from cycling_manager.model import *"
   ]
  },
  {
   "cell_type": "code",
   "execution_count": 36,
   "metadata": {},
   "outputs": [
    {
     "name": "stdout",
     "output_type": "stream",
     "text": [
      "\u001b[38;5;2mfull df shape (603619, 25)\u001b[0m\n",
      "\u001b[38;5;2mfull df shape (603619, 25)\u001b[0m\n",
      "\u001b[38;5;3mScore vertical meters - model: DecisionTreeRegressor() score: 0.9995695979202944\u001b[0m\n",
      "(336139, 25)\n"
     ]
    },
    {
     "name": "stderr",
     "output_type": "stream",
     "text": [
      "/Users/michieldekoninck/code/Michiel-DK/cycling_manager/cycling_manager/preprocess.py:67: SettingWithCopyWarning: \n",
      "A value is trying to be set on a copy of a slice from a DataFrame\n",
      "\n",
      "See the caveats in the documentation: https://pandas.pydata.org/pandas-docs/stable/user_guide/indexing.html#returning-a-view-versus-a-copy\n",
      "  vert_na.dropna(subset=['Distance:', 'ProfileScore:'], how='any', inplace=True)\n",
      "/Users/michieldekoninck/code/Michiel-DK/cycling_manager/cycling_manager/preprocess.py:73: SettingWithCopyWarning: \n",
      "A value is trying to be set on a copy of a slice from a DataFrame.\n",
      "Try using .loc[row_indexer,col_indexer] = value instead\n",
      "\n",
      "See the caveats in the documentation: https://pandas.pydata.org/pandas-docs/stable/user_guide/indexing.html#returning-a-view-versus-a-copy\n",
      "  vert_na['predicted_vert'] = tree.predict(X_pred_scaled)\n"
     ]
    },
    {
     "name": "stdout",
     "output_type": "stream",
     "text": [
      "\u001b[38;5;3mScore vertical meters - model: DecisionTreeRegressor() score: 0.9998837444550528\u001b[0m\n"
     ]
    },
    {
     "name": "stderr",
     "output_type": "stream",
     "text": [
      "/Users/michieldekoninck/code/Michiel-DK/cycling_manager/cycling_manager/preprocess.py:110: FutureWarning: The frame.append method is deprecated and will be removed from pandas in a future version. Use pandas.concat instead.\n",
      "  impute_profile = profile_na.append(smaller_ten)\n",
      "/Users/michieldekoninck/code/Michiel-DK/cycling_manager/cycling_manager/preprocess.py:129: SettingWithCopyWarning: \n",
      "A value is trying to be set on a copy of a slice from a DataFrame\n",
      "\n",
      "See the caveats in the documentation: https://pandas.pydata.org/pandas-docs/stable/user_guide/indexing.html#returning-a-view-versus-a-copy\n",
      "  px0.dropna(subset = ['ProfileScore:', 'Vert. meters:'], how='any', inplace=True)\n"
     ]
    },
    {
     "name": "stdout",
     "output_type": "stream",
     "text": [
      "\u001b[38;5;3mScore vertical meters - model: KNeighborsClassifier() score: 0.9944877892097438\u001b[0m\n"
     ]
    },
    {
     "name": "stderr",
     "output_type": "stream",
     "text": [
      "/Users/michieldekoninck/code/Michiel-DK/cycling_manager/cycling_manager/preprocess.py:151: SettingWithCopyWarning: \n",
      "A value is trying to be set on a copy of a slice from a DataFrame\n",
      "\n",
      "See the caveats in the documentation: https://pandas.pydata.org/pandas-docs/stable/user_guide/indexing.html#returning-a-view-versus-a-copy\n",
      "  p0.dropna(subset = ['ProfileScore:', 'Vert. meters:'], how='any', inplace=True)\n",
      "/Users/michieldekoninck/code/Michiel-DK/cycling_manager/cycling_manager/preprocess.py:159: SettingWithCopyWarning: \n",
      "A value is trying to be set on a copy of a slice from a DataFrame.\n",
      "Try using .loc[row_indexer,col_indexer] = value instead\n",
      "\n",
      "See the caveats in the documentation: https://pandas.pydata.org/pandas-docs/stable/user_guide/indexing.html#returning-a-view-versus-a-copy\n",
      "  p0['adjusted parcours type'] = labels\n"
     ]
    }
   ],
   "source": [
    "merged_df = preprocess(get_data())"
   ]
  },
  {
   "cell_type": "code",
   "execution_count": 120,
   "metadata": {},
   "outputs": [
    {
     "data": {
      "text/plain": [
       "4085849"
      ]
     },
     "execution_count": 120,
     "metadata": {},
     "output_type": "execute_result"
    }
   ],
   "source": [
    "merged_df.isna().sum().sum()"
   ]
  },
  {
   "cell_type": "code",
   "execution_count": 37,
   "metadata": {},
   "outputs": [
    {
     "data": {
      "text/html": [
       "<div>\n",
       "<style scoped>\n",
       "    .dataframe tbody tr th:only-of-type {\n",
       "        vertical-align: middle;\n",
       "    }\n",
       "\n",
       "    .dataframe tbody tr th {\n",
       "        vertical-align: top;\n",
       "    }\n",
       "\n",
       "    .dataframe thead th {\n",
       "        text-align: right;\n",
       "    }\n",
       "</style>\n",
       "<table border=\"1\" class=\"dataframe\">\n",
       "  <thead>\n",
       "    <tr style=\"text-align: right;\">\n",
       "      <th></th>\n",
       "      <th>name</th>\n",
       "      <th>year</th>\n",
       "      <th>type</th>\n",
       "      <th>date</th>\n",
       "      <th>result</th>\n",
       "      <th>gc</th>\n",
       "      <th>icon</th>\n",
       "      <th>race_ref</th>\n",
       "      <th>race_name</th>\n",
       "      <th>race_detail</th>\n",
       "      <th>...</th>\n",
       "      <th>Race category:</th>\n",
       "      <th>Points scale:</th>\n",
       "      <th>Arrival:</th>\n",
       "      <th>Won how:</th>\n",
       "      <th>parcours_type_num</th>\n",
       "      <th>gt_binary</th>\n",
       "      <th>key</th>\n",
       "      <th>result_bin</th>\n",
       "      <th>types_bin</th>\n",
       "      <th>icon_bin</th>\n",
       "    </tr>\n",
       "  </thead>\n",
       "  <tbody>\n",
       "    <tr>\n",
       "      <th>1</th>\n",
       "      <td>andrey-amador</td>\n",
       "      <td>2020</td>\n",
       "      <td>etappe</td>\n",
       "      <td>2020-09-16</td>\n",
       "      <td>117</td>\n",
       "      <td>79.0</td>\n",
       "      <td>stage</td>\n",
       "      <td>race/tour-de-france/2020/stage-17</td>\n",
       "      <td>tour-de-france</td>\n",
       "      <td>Stage 17 - Grenoble › Méribel - Col de la Loze</td>\n",
       "      <td>...</td>\n",
       "      <td>NaN</td>\n",
       "      <td>NaN</td>\n",
       "      <td>NaN</td>\n",
       "      <td>NaN</td>\n",
       "      <td>5.0</td>\n",
       "      <td>1</td>\n",
       "      <td>andrey-amador-2020-tour-de-france</td>\n",
       "      <td>0.0</td>\n",
       "      <td>0</td>\n",
       "      <td>0</td>\n",
       "    </tr>\n",
       "    <tr>\n",
       "      <th>2</th>\n",
       "      <td>richard-carapaz</td>\n",
       "      <td>2020</td>\n",
       "      <td>etappe</td>\n",
       "      <td>2020-09-16</td>\n",
       "      <td>11</td>\n",
       "      <td>13.0</td>\n",
       "      <td>stage</td>\n",
       "      <td>race/tour-de-france/2020/stage-17</td>\n",
       "      <td>tour-de-france</td>\n",
       "      <td>Stage 17 - Grenoble › Méribel - Col de la Loze</td>\n",
       "      <td>...</td>\n",
       "      <td>NaN</td>\n",
       "      <td>NaN</td>\n",
       "      <td>NaN</td>\n",
       "      <td>NaN</td>\n",
       "      <td>5.0</td>\n",
       "      <td>1</td>\n",
       "      <td>richard-carapaz-2020-tour-de-france</td>\n",
       "      <td>1.0</td>\n",
       "      <td>0</td>\n",
       "      <td>0</td>\n",
       "    </tr>\n",
       "    <tr>\n",
       "      <th>3</th>\n",
       "      <td>jonathan-castroviejo</td>\n",
       "      <td>2020</td>\n",
       "      <td>etappe</td>\n",
       "      <td>2020-09-16</td>\n",
       "      <td>116</td>\n",
       "      <td>40.0</td>\n",
       "      <td>stage</td>\n",
       "      <td>race/tour-de-france/2020/stage-17</td>\n",
       "      <td>tour-de-france</td>\n",
       "      <td>Stage 17 - Grenoble › Méribel - Col de la Loze</td>\n",
       "      <td>...</td>\n",
       "      <td>NaN</td>\n",
       "      <td>NaN</td>\n",
       "      <td>NaN</td>\n",
       "      <td>NaN</td>\n",
       "      <td>5.0</td>\n",
       "      <td>1</td>\n",
       "      <td>jonathan-castroviejo-2020-tour-de-france</td>\n",
       "      <td>0.0</td>\n",
       "      <td>0</td>\n",
       "      <td>0</td>\n",
       "    </tr>\n",
       "    <tr>\n",
       "      <th>4</th>\n",
       "      <td>michal-kwiatkowski</td>\n",
       "      <td>2020</td>\n",
       "      <td>etappe</td>\n",
       "      <td>2020-09-16</td>\n",
       "      <td>130</td>\n",
       "      <td>37.0</td>\n",
       "      <td>stage</td>\n",
       "      <td>race/tour-de-france/2020/stage-17</td>\n",
       "      <td>tour-de-france</td>\n",
       "      <td>Stage 17 - Grenoble › Méribel - Col de la Loze</td>\n",
       "      <td>...</td>\n",
       "      <td>NaN</td>\n",
       "      <td>NaN</td>\n",
       "      <td>NaN</td>\n",
       "      <td>NaN</td>\n",
       "      <td>5.0</td>\n",
       "      <td>1</td>\n",
       "      <td>michal-kwiatkowski-2020-tour-de-france</td>\n",
       "      <td>0.0</td>\n",
       "      <td>0</td>\n",
       "      <td>0</td>\n",
       "    </tr>\n",
       "    <tr>\n",
       "      <th>5</th>\n",
       "      <td>luke-rowe</td>\n",
       "      <td>2020</td>\n",
       "      <td>etappe</td>\n",
       "      <td>2020-09-16</td>\n",
       "      <td>131</td>\n",
       "      <td>133.0</td>\n",
       "      <td>stage</td>\n",
       "      <td>race/tour-de-france/2020/stage-17</td>\n",
       "      <td>tour-de-france</td>\n",
       "      <td>Stage 17 - Grenoble › Méribel - Col de la Loze</td>\n",
       "      <td>...</td>\n",
       "      <td>NaN</td>\n",
       "      <td>NaN</td>\n",
       "      <td>NaN</td>\n",
       "      <td>NaN</td>\n",
       "      <td>5.0</td>\n",
       "      <td>1</td>\n",
       "      <td>luke-rowe-2020-tour-de-france</td>\n",
       "      <td>0.0</td>\n",
       "      <td>0</td>\n",
       "      <td>0</td>\n",
       "    </tr>\n",
       "  </tbody>\n",
       "</table>\n",
       "<p>5 rows × 31 columns</p>\n",
       "</div>"
      ],
      "text/plain": [
       "                   name  year    type       date  result     gc   icon  \\\n",
       "1         andrey-amador  2020  etappe 2020-09-16     117   79.0  stage   \n",
       "2       richard-carapaz  2020  etappe 2020-09-16      11   13.0  stage   \n",
       "3  jonathan-castroviejo  2020  etappe 2020-09-16     116   40.0  stage   \n",
       "4    michal-kwiatkowski  2020  etappe 2020-09-16     130   37.0  stage   \n",
       "5             luke-rowe  2020  etappe 2020-09-16     131  133.0  stage   \n",
       "\n",
       "                            race_ref       race_name  \\\n",
       "1  race/tour-de-france/2020/stage-17  tour-de-france   \n",
       "2  race/tour-de-france/2020/stage-17  tour-de-france   \n",
       "3  race/tour-de-france/2020/stage-17  tour-de-france   \n",
       "4  race/tour-de-france/2020/stage-17  tour-de-france   \n",
       "5  race/tour-de-france/2020/stage-17  tour-de-france   \n",
       "\n",
       "                                      race_detail  ... Race category:  \\\n",
       "1  Stage 17 - Grenoble › Méribel - Col de la Loze  ...            NaN   \n",
       "2  Stage 17 - Grenoble › Méribel - Col de la Loze  ...            NaN   \n",
       "3  Stage 17 - Grenoble › Méribel - Col de la Loze  ...            NaN   \n",
       "4  Stage 17 - Grenoble › Méribel - Col de la Loze  ...            NaN   \n",
       "5  Stage 17 - Grenoble › Méribel - Col de la Loze  ...            NaN   \n",
       "\n",
       "   Points scale:  Arrival:  Won how:  parcours_type_num gt_binary  \\\n",
       "1            NaN       NaN       NaN                5.0         1   \n",
       "2            NaN       NaN       NaN                5.0         1   \n",
       "3            NaN       NaN       NaN                5.0         1   \n",
       "4            NaN       NaN       NaN                5.0         1   \n",
       "5            NaN       NaN       NaN                5.0         1   \n",
       "\n",
       "                                        key  result_bin  types_bin icon_bin  \n",
       "1         andrey-amador-2020-tour-de-france         0.0          0        0  \n",
       "2       richard-carapaz-2020-tour-de-france         1.0          0        0  \n",
       "3  jonathan-castroviejo-2020-tour-de-france         0.0          0        0  \n",
       "4    michal-kwiatkowski-2020-tour-de-france         0.0          0        0  \n",
       "5             luke-rowe-2020-tour-de-france         0.0          0        0  \n",
       "\n",
       "[5 rows x 31 columns]"
      ]
     },
     "execution_count": 37,
     "metadata": {},
     "output_type": "execute_result"
    }
   ],
   "source": [
    "merged_df.head()"
   ]
  },
  {
   "cell_type": "code",
   "execution_count": 38,
   "metadata": {},
   "outputs": [],
   "source": [
    "#split to predict later\n",
    "merged_df_predict = merged_df[merged_df['year'] == 2022]\n",
    "merged_df_train = merged_df[(merged_df['year'] > 2017) & (merged_df['year'] != 2022)]"
   ]
  },
  {
   "cell_type": "code",
   "execution_count": 39,
   "metadata": {},
   "outputs": [
    {
     "data": {
      "text/html": [
       "<div>\n",
       "<style scoped>\n",
       "    .dataframe tbody tr th:only-of-type {\n",
       "        vertical-align: middle;\n",
       "    }\n",
       "\n",
       "    .dataframe tbody tr th {\n",
       "        vertical-align: top;\n",
       "    }\n",
       "\n",
       "    .dataframe thead th {\n",
       "        text-align: right;\n",
       "    }\n",
       "</style>\n",
       "<table border=\"1\" class=\"dataframe\">\n",
       "  <thead>\n",
       "    <tr style=\"text-align: right;\">\n",
       "      <th></th>\n",
       "      <th>name</th>\n",
       "      <th>year</th>\n",
       "      <th>race_name</th>\n",
       "    </tr>\n",
       "  </thead>\n",
       "  <tbody>\n",
       "    <tr>\n",
       "      <th>0</th>\n",
       "      <td>tadej-pogacar</td>\n",
       "      <td>2022</td>\n",
       "      <td>tour-de-france</td>\n",
       "    </tr>\n",
       "    <tr>\n",
       "      <th>1</th>\n",
       "      <td>mikkel-bjerg</td>\n",
       "      <td>2022</td>\n",
       "      <td>tour-de-france</td>\n",
       "    </tr>\n",
       "    <tr>\n",
       "      <th>2</th>\n",
       "      <td>rafal-majka</td>\n",
       "      <td>2022</td>\n",
       "      <td>tour-de-france</td>\n",
       "    </tr>\n",
       "    <tr>\n",
       "      <th>3</th>\n",
       "      <td>brandon-mcnulty</td>\n",
       "      <td>2022</td>\n",
       "      <td>tour-de-france</td>\n",
       "    </tr>\n",
       "    <tr>\n",
       "      <th>4</th>\n",
       "      <td>marc-soler</td>\n",
       "      <td>2022</td>\n",
       "      <td>tour-de-france</td>\n",
       "    </tr>\n",
       "    <tr>\n",
       "      <th>...</th>\n",
       "      <td>...</td>\n",
       "      <td>...</td>\n",
       "      <td>...</td>\n",
       "    </tr>\n",
       "    <tr>\n",
       "      <th>347</th>\n",
       "      <td>sergio-samitier</td>\n",
       "      <td>2022</td>\n",
       "      <td>giro-d-italia</td>\n",
       "    </tr>\n",
       "    <tr>\n",
       "      <th>348</th>\n",
       "      <td>filippo-fiorelli</td>\n",
       "      <td>2022</td>\n",
       "      <td>giro-d-italia</td>\n",
       "    </tr>\n",
       "    <tr>\n",
       "      <th>349</th>\n",
       "      <td>jakub-mareczko</td>\n",
       "      <td>2022</td>\n",
       "      <td>giro-d-italia</td>\n",
       "    </tr>\n",
       "    <tr>\n",
       "      <th>350</th>\n",
       "      <td>miguel-angel-lopez</td>\n",
       "      <td>2022</td>\n",
       "      <td>giro-d-italia</td>\n",
       "    </tr>\n",
       "    <tr>\n",
       "      <th>351</th>\n",
       "      <td>jan-tratnik</td>\n",
       "      <td>2022</td>\n",
       "      <td>giro-d-italia</td>\n",
       "    </tr>\n",
       "  </tbody>\n",
       "</table>\n",
       "<p>352 rows × 3 columns</p>\n",
       "</div>"
      ],
      "text/plain": [
       "                   name  year       race_name\n",
       "0         tadej-pogacar  2022  tour-de-france\n",
       "1          mikkel-bjerg  2022  tour-de-france\n",
       "2           rafal-majka  2022  tour-de-france\n",
       "3       brandon-mcnulty  2022  tour-de-france\n",
       "4            marc-soler  2022  tour-de-france\n",
       "..                  ...   ...             ...\n",
       "347     sergio-samitier  2022   giro-d-italia\n",
       "348    filippo-fiorelli  2022   giro-d-italia\n",
       "349      jakub-mareczko  2022   giro-d-italia\n",
       "350  miguel-angel-lopez  2022   giro-d-italia\n",
       "351         jan-tratnik  2022   giro-d-italia\n",
       "\n",
       "[352 rows x 3 columns]"
      ]
     },
     "execution_count": 39,
     "metadata": {},
     "output_type": "execute_result"
    }
   ],
   "source": [
    "#riders to predict\n",
    "riders_predict = merged_df_predict[(merged_df_predict['race_name']=='tour-de-france')| (merged_df_predict['race_name']=='vuelta-a-espana')| (merged_df_predict['race_name']=='giro-d-italia')][['name', 'year', 'race_name']]\n",
    "riders_predict = riders_predict[riders_predict['year'] == 2022].drop_duplicates().reset_index(drop=True)\n",
    "riders_predict"
   ]
  },
  {
   "cell_type": "code",
   "execution_count": 40,
   "metadata": {},
   "outputs": [
    {
     "data": {
      "text/html": [
       "<div>\n",
       "<style scoped>\n",
       "    .dataframe tbody tr th:only-of-type {\n",
       "        vertical-align: middle;\n",
       "    }\n",
       "\n",
       "    .dataframe tbody tr th {\n",
       "        vertical-align: top;\n",
       "    }\n",
       "\n",
       "    .dataframe thead th {\n",
       "        text-align: right;\n",
       "    }\n",
       "</style>\n",
       "<table border=\"1\" class=\"dataframe\">\n",
       "  <thead>\n",
       "    <tr style=\"text-align: right;\">\n",
       "      <th></th>\n",
       "      <th>name</th>\n",
       "      <th>year</th>\n",
       "      <th>race_name</th>\n",
       "    </tr>\n",
       "  </thead>\n",
       "  <tbody>\n",
       "    <tr>\n",
       "      <th>1997</th>\n",
       "      <td>frederik-frison</td>\n",
       "      <td>2021</td>\n",
       "      <td>vuelta-a-espana</td>\n",
       "    </tr>\n",
       "    <tr>\n",
       "      <th>1628</th>\n",
       "      <td>jack-haig</td>\n",
       "      <td>2021</td>\n",
       "      <td>tour-de-france</td>\n",
       "    </tr>\n",
       "    <tr>\n",
       "      <th>1634</th>\n",
       "      <td>bauke-mollema</td>\n",
       "      <td>2021</td>\n",
       "      <td>giro-d-italia</td>\n",
       "    </tr>\n",
       "    <tr>\n",
       "      <th>1633</th>\n",
       "      <td>vincenzo-nibali</td>\n",
       "      <td>2021</td>\n",
       "      <td>giro-d-italia</td>\n",
       "    </tr>\n",
       "    <tr>\n",
       "      <th>1632</th>\n",
       "      <td>dan-martin</td>\n",
       "      <td>2021</td>\n",
       "      <td>giro-d-italia</td>\n",
       "    </tr>\n",
       "    <tr>\n",
       "      <th>...</th>\n",
       "      <td>...</td>\n",
       "      <td>...</td>\n",
       "      <td>...</td>\n",
       "    </tr>\n",
       "    <tr>\n",
       "      <th>1278</th>\n",
       "      <td>tony-gallopin</td>\n",
       "      <td>2018</td>\n",
       "      <td>vuelta-a-espana</td>\n",
       "    </tr>\n",
       "    <tr>\n",
       "      <th>1279</th>\n",
       "      <td>vincenzo-nibali</td>\n",
       "      <td>2018</td>\n",
       "      <td>vuelta-a-espana</td>\n",
       "    </tr>\n",
       "    <tr>\n",
       "      <th>1280</th>\n",
       "      <td>gorka-izagirre</td>\n",
       "      <td>2018</td>\n",
       "      <td>vuelta-a-espana</td>\n",
       "    </tr>\n",
       "    <tr>\n",
       "      <th>1281</th>\n",
       "      <td>ion-izagirre</td>\n",
       "      <td>2018</td>\n",
       "      <td>vuelta-a-espana</td>\n",
       "    </tr>\n",
       "    <tr>\n",
       "      <th>999</th>\n",
       "      <td>rafal-majka</td>\n",
       "      <td>2018</td>\n",
       "      <td>tour-de-france</td>\n",
       "    </tr>\n",
       "  </tbody>\n",
       "</table>\n",
       "<p>1998 rows × 3 columns</p>\n",
       "</div>"
      ],
      "text/plain": [
       "                 name  year        race_name\n",
       "1997  frederik-frison  2021  vuelta-a-espana\n",
       "1628        jack-haig  2021   tour-de-france\n",
       "1634    bauke-mollema  2021    giro-d-italia\n",
       "1633  vincenzo-nibali  2021    giro-d-italia\n",
       "1632       dan-martin  2021    giro-d-italia\n",
       "...               ...   ...              ...\n",
       "1278    tony-gallopin  2018  vuelta-a-espana\n",
       "1279  vincenzo-nibali  2018  vuelta-a-espana\n",
       "1280   gorka-izagirre  2018  vuelta-a-espana\n",
       "1281     ion-izagirre  2018  vuelta-a-espana\n",
       "999       rafal-majka  2018   tour-de-france\n",
       "\n",
       "[1998 rows x 3 columns]"
      ]
     },
     "execution_count": 40,
     "metadata": {},
     "output_type": "execute_result"
    }
   ],
   "source": [
    "#riders to train on\n",
    "riders = merged_df_train[(merged_df_train['race_name']=='tour-de-france')| (merged_df_train['race_name']=='vuelta-a-espana')| (merged_df_train['race_name']=='giro-d-italia')][['name', 'year', 'race_name']]\n",
    "riders = riders[riders['year'] != 2022].drop_duplicates().reset_index(drop=True).sort_values(by='year', ascending=False)\n",
    "riders"
   ]
  },
  {
   "cell_type": "code",
   "execution_count": 41,
   "metadata": {},
   "outputs": [
    {
     "data": {
      "text/plain": [
       "0.17617617617617617"
      ]
     },
     "execution_count": 41,
     "metadata": {},
     "output_type": "execute_result"
    }
   ],
   "source": [
    "# #split riders in train/test randomly\n",
    "# train, test = train_test_split(riders, test_size=0.2, random_state=42)\n",
    "\n",
    "# #split rediers in train/test based on years\n",
    "# train = riders[riders['year']<2021]\n",
    "# test = riders[riders['year']>=2021]\n",
    "\n",
    "train = riders.copy()\n",
    "test = riders_predict.copy()\n",
    "\n",
    "len(test)/len(train)"
   ]
  },
  {
   "cell_type": "code",
   "execution_count": 42,
   "metadata": {},
   "outputs": [],
   "source": [
    "X_encoder, X_decoder = get_scaler(80, merged_df, riders)"
   ]
  },
  {
   "cell_type": "code",
   "execution_count": 121,
   "metadata": {},
   "outputs": [
    {
     "name": "stdout",
     "output_type": "stream",
     "text": [
      "remco-evenepoel 2021 giro-d-italia (0, 15)\n",
      "dylan-groenewegen 2021 giro-d-italia (0, 15)\n",
      "joris-nieuwenhuis 2020 tour-de-france (0, 15)\n",
      "jacopo-mosca 2019 vuelta-a-espana\n",
      "luis-angel-mate 2019 vuelta-a-espana\n",
      "george-bennett 2022 tour-de-france\n"
     ]
    }
   ],
   "source": [
    "X_encoder_train, X_decoder_train, y_decoder_train = get_sequences(80, merged_df, train, X_encoder, X_decoder)\n",
    "X_encoder_test, X_decoder_test, y_decoder_test = get_sequences(80, merged_df, test, X_encoder, X_decoder)"
   ]
  },
  {
   "cell_type": "code",
   "execution_count": 122,
   "metadata": {},
   "outputs": [
    {
     "data": {
      "text/plain": [
       "((1995, 80, 15), (1995, 21, 5), (1995, 21, 1))"
      ]
     },
     "execution_count": 122,
     "metadata": {},
     "output_type": "execute_result"
    }
   ],
   "source": [
    "X_encoder_train.shape, X_decoder_train.shape, y_decoder_train.shape\n"
   ]
  },
  {
   "cell_type": "code",
   "execution_count": 141,
   "metadata": {},
   "outputs": [
    {
     "data": {
      "text/plain": [
       "((352, 80, 15), (352, 21, 5), (352, 21, 1))"
      ]
     },
     "execution_count": 141,
     "metadata": {},
     "output_type": "execute_result"
    }
   ],
   "source": [
    "X_encoder_test.shape, X_decoder_test.shape, y_decoder_test.shape\n"
   ]
  },
  {
   "cell_type": "code",
   "execution_count": 135,
   "metadata": {},
   "outputs": [],
   "source": [
    "from cycling_manager.sequences import *\n",
    "from cycling_manager.preprocess import *\n",
    "from cycling_manager.model import *"
   ]
  },
  {
   "cell_type": "code",
   "execution_count": 136,
   "metadata": {},
   "outputs": [],
   "source": [
    "model = combine_model(X_encoder_train, X_decoder_train)\n",
    "\n",
    "model = compile_model(model)"
   ]
  },
  {
   "cell_type": "code",
   "execution_count": 137,
   "metadata": {},
   "outputs": [
    {
     "name": "stdout",
     "output_type": "stream",
     "text": [
      "Epoch 1/1000\n",
      "11/11 [==============================] - 9s 263ms/step - loss: 0.9410 - accuracy: 0.6191 - val_loss: 1.0285 - val_accuracy: 0.2135\n",
      "Epoch 2/1000\n",
      "11/11 [==============================] - 1s 65ms/step - loss: 0.9337 - accuracy: 0.1308 - val_loss: 1.0318 - val_accuracy: 0.1278\n",
      "Epoch 3/1000\n",
      "11/11 [==============================] - 1s 65ms/step - loss: 0.9274 - accuracy: 0.1230 - val_loss: 1.0355 - val_accuracy: 0.1278\n",
      "Epoch 4/1000\n",
      "11/11 [==============================] - 1s 64ms/step - loss: 0.9182 - accuracy: 0.1229 - val_loss: 1.0417 - val_accuracy: 0.1278\n",
      "Epoch 5/1000\n",
      "11/11 [==============================] - 1s 66ms/step - loss: 0.9043 - accuracy: 0.1229 - val_loss: 1.0485 - val_accuracy: 0.1278\n"
     ]
    }
   ],
   "source": [
    "model, history = train_model(model, X_encoder_train, X_decoder_train, y_decoder_train)"
   ]
  },
  {
   "cell_type": "code",
   "execution_count": 139,
   "metadata": {},
   "outputs": [
    {
     "name": "stdout",
     "output_type": "stream",
     "text": [
      "11/11 [==============================] - 0s 8ms/step - loss: 1.1079 - accuracy: 0.1373\n"
     ]
    },
    {
     "data": {
      "text/plain": [
       "[1.1078872680664062, 0.13731060922145844]"
      ]
     },
     "execution_count": 139,
     "metadata": {},
     "output_type": "execute_result"
    }
   ],
   "source": [
    "model.evaluate([X_encoder_test, X_decoder_test], y_decoder_test)"
   ]
  },
  {
   "cell_type": "code",
   "execution_count": 144,
   "metadata": {},
   "outputs": [
    {
     "name": "stdout",
     "output_type": "stream",
     "text": [
      "11/11 [==============================] - 2s 9ms/step\n"
     ]
    },
    {
     "data": {
      "text/plain": [
       "array([[[0.505883  ],\n",
       "        [0.5051871 ],\n",
       "        [0.5053746 ],\n",
       "        ...,\n",
       "        [0.524852  ],\n",
       "        [0.51922685],\n",
       "        [0.50657576]],\n",
       "\n",
       "       [[0.5014351 ],\n",
       "        [0.4996339 ],\n",
       "        [0.49984598],\n",
       "        ...,\n",
       "        [0.52573943],\n",
       "        [0.5203257 ],\n",
       "        [0.5032005 ]],\n",
       "\n",
       "       [[0.50316244],\n",
       "        [0.50263196],\n",
       "        [0.5028441 ],\n",
       "        ...,\n",
       "        [0.        ],\n",
       "        [0.        ],\n",
       "        [0.        ]],\n",
       "\n",
       "       ...,\n",
       "\n",
       "       [[0.51729894],\n",
       "        [0.4966206 ],\n",
       "        [0.51035655],\n",
       "        ...,\n",
       "        [0.        ],\n",
       "        [0.        ],\n",
       "        [0.        ]],\n",
       "\n",
       "       [[0.51950485],\n",
       "        [0.49075204],\n",
       "        [0.5086708 ],\n",
       "        ...,\n",
       "        [0.        ],\n",
       "        [0.        ],\n",
       "        [0.        ]],\n",
       "\n",
       "       [[0.5193328 ],\n",
       "        [0.4918879 ],\n",
       "        [0.        ],\n",
       "        ...,\n",
       "        [0.        ],\n",
       "        [0.        ],\n",
       "        [0.        ]]], dtype=float32)"
      ]
     },
     "execution_count": 144,
     "metadata": {},
     "output_type": "execute_result"
    }
   ],
   "source": [
    "model.predict([X_encoder_test, X_decoder_test])"
   ]
  },
  {
   "cell_type": "code",
   "execution_count": null,
   "metadata": {},
   "outputs": [],
   "source": []
  }
 ],
 "metadata": {
  "kernelspec": {
   "display_name": "cycling",
   "language": "python",
   "name": "python3"
  },
  "language_info": {
   "codemirror_mode": {
    "name": "ipython",
    "version": 3
   },
   "file_extension": ".py",
   "mimetype": "text/x-python",
   "name": "python",
   "nbconvert_exporter": "python",
   "pygments_lexer": "ipython3",
   "version": "3.10.6"
  },
  "orig_nbformat": 4,
  "vscode": {
   "interpreter": {
    "hash": "8ca951d3d600fdeda50107b74045477811d1e32ce56279a22e6e41512d9b0d64"
   }
  }
 },
 "nbformat": 4,
 "nbformat_minor": 2
}
