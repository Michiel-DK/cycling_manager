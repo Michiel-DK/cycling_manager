{
 "cells": [
  {
   "cell_type": "code",
   "execution_count": null,
   "metadata": {},
   "outputs": [
    {
     "ename": "",
     "evalue": "",
     "output_type": "error",
     "traceback": [
      "\u001b[1;31mThe kernel failed to start as '/Users/michieldekoninck/.pyenv/versions/3.10.6/envs/boonen/lib/python3.10/site-packages/psutil/_psutil_osx.cpython-310-darwin.so' could not be imported from '/Users/michieldekoninck/.pyenv/versions/3.10.6/envs/boonen/lib/python3.10/site-packages/psutil/_psutil_osx.cpython-310-darwin.so, 0x0002'.\n",
      "\u001b[1;31mClick <a href='https://aka.ms/kernelFailuresModuleImportErrFromFile'>here</a> for more info."
     ]
    }
   ],
   "source": [
    "from cycling_manager.sequences import get_sequence\n",
    "import pandas as pd\n",
    "import numpy as np"
   ]
  },
  {
   "cell_type": "code",
   "execution_count": null,
   "metadata": {},
   "outputs": [],
   "source": []
  },
  {
   "cell_type": "code",
   "execution_count": null,
   "metadata": {},
   "outputs": [],
   "source": []
  }
 ],
 "metadata": {
  "kernelspec": {
   "display_name": "boonen",
   "language": "python",
   "name": "python3"
  },
  "language_info": {
   "codemirror_mode": {
    "name": "ipython",
    "version": 3
   },
   "file_extension": ".py",
   "mimetype": "text/x-python",
   "name": "python",
   "nbconvert_exporter": "python",
   "pygments_lexer": "ipython3",
   "version": "3.10.6 (main, Oct 15 2022, 11:34:39) [Clang 13.1.6 (clang-1316.0.21.2.5)]"
  },
  "orig_nbformat": 4,
  "vscode": {
   "interpreter": {
    "hash": "35311cd9c5d8ec1bc0987dedc69c0ce51322fc7abc70befc2be1a852ed3d7735"
   }
  }
 },
 "nbformat": 4,
 "nbformat_minor": 2
}
